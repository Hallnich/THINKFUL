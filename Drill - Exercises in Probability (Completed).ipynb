{
 "cells": [
  {
   "cell_type": "code",
   "execution_count": 1,
   "metadata": {},
   "outputs": [],
   "source": [
    "import numpy as np\n",
    "import pandas as pd\n",
    "%matplotlib inline"
   ]
  },
  {
   "cell_type": "code",
   "execution_count": 1,
   "metadata": {},
   "outputs": [
    {
     "name": "stdout",
     "output_type": "stream",
     "text": [
      "0.0625\n"
     ]
    }
   ],
   "source": [
    "# Question 1\n",
    "\n",
    "# All probabilities in this problem are 0.0625 because coin flipping is an independent variable\n",
    "\n",
    "Prob= 0.5 * 0.5 * 0.5 * 0.5\n",
    "print(Prob)\n"
   ]
  },
  {
   "cell_type": "code",
   "execution_count": 2,
   "metadata": {},
   "outputs": [
    {
     "name": "stdout",
     "output_type": "stream",
     "text": [
      "24/45 is the probability of not choosing a man\n"
     ]
    }
   ],
   "source": [
    "# Question 2\n",
    "\n",
    "print(\"24/45 is the probability of not choosing a man\")\n"
   ]
  },
  {
   "cell_type": "code",
   "execution_count": 4,
   "metadata": {},
   "outputs": [
    {
     "name": "stdout",
     "output_type": "stream",
     "text": [
      "5e-06\n"
     ]
    }
   ],
   "source": [
    "# Question 3\n",
    "\n",
    "# The probability that Bernice will be in a plane crash is 5*10^-6\n",
    " \n",
    "bernice = (10/100)\n",
    "crash = (0.005/100)\n",
    "answer = bernice*crash\n",
    "print(answer)\n",
    "\n"
   ]
  },
  {
   "cell_type": "markdown",
   "metadata": {},
   "source": [
    "# Question 4\n",
    "\n",
    "The 5% chance that a user will click on a link will not produce a representative sample because people who spend more time on the site will most likely click more links"
   ]
  }
 ],
 "metadata": {
  "kernelspec": {
   "display_name": "Python 3",
   "language": "python",
   "name": "python3"
  },
  "language_info": {
   "codemirror_mode": {
    "name": "ipython",
    "version": 3
   },
   "file_extension": ".py",
   "mimetype": "text/x-python",
   "name": "python",
   "nbconvert_exporter": "python",
   "pygments_lexer": "ipython3",
   "version": "3.7.2"
  }
 },
 "nbformat": 4,
 "nbformat_minor": 2
}
