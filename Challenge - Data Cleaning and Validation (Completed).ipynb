{
 "cells": [
  {
   "cell_type": "code",
   "execution_count": 1,
   "metadata": {},
   "outputs": [],
   "source": [
    "import numpy as np\n",
    "import pandas as pd\n",
    "import seaborn as sns\n",
    "import matplotlib.pyplot as plt\n",
    "%matplotlib inline"
   ]
  },
  {
   "cell_type": "code",
   "execution_count": 2,
   "metadata": {},
   "outputs": [],
   "source": [
    "# Read in data and save raw data as different name for later comparison\n",
    "raw_data = pd.read_csv('C:\\\\Users\\halln\\Desktop\\THINKFUL\\Bootcamp Drills\\Cleaning Data Challenge\\datafile.csv',encoding='ISO-8859-1')\n",
    "data =  pd.read_csv('C:\\\\Users\\halln\\Desktop\\THINKFUL\\Bootcamp Drills\\Cleaning Data Challenge\\datafile.csv',encoding='ISO-8859-1')"
   ]
  },
  {
   "cell_type": "code",
   "execution_count": 3,
   "metadata": {},
   "outputs": [
    {
     "name": "stdout",
     "output_type": "stream",
     "text": [
      "0\n",
      "Have Been Reconciled From an Initial\n",
      "985\n"
     ]
    }
   ],
   "source": [
    "# Function to determine how many unique entries left in journals column \n",
    "def get_unique():\n",
    "    difference = len(raw_data['Journal title'].unique())-len(data['Journal title'].unique())\n",
    "    print(difference)\n",
    "    print(\"Have Been Reconciled From an Initial\")\n",
    "    print(len(raw_data['Journal title'].unique()))\n",
    "    \n",
    "get_unique()"
   ]
  },
  {
   "cell_type": "code",
   "execution_count": 4,
   "metadata": {},
   "outputs": [],
   "source": [
    "# CLEANING JOURNAL COLUMN\n",
    "\n",
    "# Make all journal titles all caps and remove empty space at ends\n",
    "data['Journal title'] = data['Journal title'].str.upper()\n",
    "\n",
    "# Strip empty space from ends\n",
    "data['Journal title'] = data['Journal title'].str.strip()\n",
    "\n",
    "# Convert all entries to strings \n",
    "data['Journal title'] = data['Journal title'].astype(str)\n",
    "\n",
    "# Remove all spaces from entries\n",
    "data['Journal title'] = data['Journal title'].apply(lambda x: str(x).replace(' ', ''))"
   ]
  },
  {
   "cell_type": "code",
   "execution_count": 5,
   "metadata": {},
   "outputs": [
    {
     "name": "stdout",
     "output_type": "stream",
     "text": [
      "94\n",
      "Have Been Reconciled From an Initial\n",
      "985\n"
     ]
    }
   ],
   "source": [
    "# Check how many entries that reconciled\n",
    "get_unique()"
   ]
  },
  {
   "cell_type": "code",
   "execution_count": 6,
   "metadata": {},
   "outputs": [
    {
     "name": "stdout",
     "output_type": "stream",
     "text": [
      "Journal title\n",
      "PLOSONE                                      200\n",
      "JOURNALOFBIOLOGICALCHEMISTRY                  53\n",
      "NEUROIMAGE                                    29\n",
      "NUCLEICACIDSRESEARCH                          26\n",
      "PLOSGENETICS                                  24\n",
      "PLOSPATHOGENS                                 24\n",
      "PROCEEDINGSOFTHENATIONALACADEMYOFSCIENCES     22\n",
      "PLOSNEGLECTEDTROPICALDISEASES                 20\n",
      "HUMANMOLECULARGENETICS                        19\n",
      "NATURECOMMUNICATIONS                          19\n",
      "dtype: int64\n"
     ]
    }
   ],
   "source": [
    "# Get initial count of top ten journal titles by count\n",
    "top_10 = data.groupby('Journal title').size().sort_values(ascending=False)[:10]\n",
    "print(top_10)"
   ]
  },
  {
   "cell_type": "code",
   "execution_count": 7,
   "metadata": {},
   "outputs": [],
   "source": [
    "# Word finder function used to determine words to use to reconcile different entries for same journal title\n",
    "values = data['Journal title'].unique()\n",
    "def word_finder(x):\n",
    "    for value in values:\n",
    "            if x in value:\n",
    "                print(value)  \n"
   ]
  },
  {
   "cell_type": "code",
   "execution_count": 8,
   "metadata": {},
   "outputs": [
    {
     "name": "stdout",
     "output_type": "stream",
     "text": [
      "NUCLEICACIDSRESEARCH\n",
      "NUCLEICACIDRESEARCH\n"
     ]
    }
   ],
   "source": [
    "# Example os using word_finder function\n",
    "word_finder(\"NUCLEIC\")"
   ]
  },
  {
   "cell_type": "code",
   "execution_count": 9,
   "metadata": {},
   "outputs": [],
   "source": [
    "# Alternate IDs for journals determined with word finder\n",
    "plos_ids = (\"PLOSONE\",\"PLOS1\")\n",
    "j_biochem_ids = (\"BIOLOGICALCHEMISTRY\",\"BIOLCHEM\")\n",
    "neuro_ids = (\"NEUROLMAGE\",\"NEUROIMAGE\")\n",
    "nucleic_acids_id = (\"NUCLEIC\")\n",
    "pnas_ids=(\"PNAS\",\"PROCEEDINGSOFTHENATIONALACADEMYOFSCIENCES\")\n",
    "\n",
    "# CLEAN DATA USING IDS PROVIDED\n",
    "for journal in data['Journal title']:\n",
    "    \n",
    "    # ASSIGN PLOS ENTRIES\n",
    "    for ids in plos_ids:\n",
    "        if ids in journal:\n",
    "            data['Journal title'].replace(journal,\"PLOS_ONE\",inplace=True)\n",
    "            \n",
    "    # ASSIGN JOURNAL OF BIOLOGICAL CHEMISTRY ENTRIES\n",
    "    for ids in j_biochem_ids:\n",
    "        if ids in journal:\n",
    "            data['Journal title'].replace(journal,\"J_BIOLOGICAL_CHEMISTRY\",inplace=True)\n",
    "            \n",
    "    # ASSIGN NEUROIMAGE ENTRIES\n",
    "    for ids in neuro_ids:\n",
    "        if ids in journal:\n",
    "            data['Journal title'].replace(journal,\"NEURO_IMAGE\",inplace=True)\n",
    "            \n",
    "    # ASSIGN NUCLEIC ACIDS IDS\n",
    "    if \"NUCLEIC\" in journal:\n",
    "            data['Journal title'].replace(journal,\"NUC_ACIDS_RESEARCH\",inplace=True)\n",
    "        \n",
    "    # ASSIGN PNAS IDS \n",
    "    for ids in pnas_ids:\n",
    "        if ids in journal:\n",
    "            data['Journal title'].replace(journal,\"P.N.A.S\",inplace=True)"
   ]
  },
  {
   "cell_type": "code",
   "execution_count": 10,
   "metadata": {},
   "outputs": [
    {
     "name": "stdout",
     "output_type": "stream",
     "text": [
      "111\n",
      "Have Been Reconciled From an Initial\n",
      "985\n"
     ]
    }
   ],
   "source": [
    "# Determine how many entries have been reconciled\n",
    "get_unique()"
   ]
  },
  {
   "cell_type": "code",
   "execution_count": 11,
   "metadata": {},
   "outputs": [
    {
     "name": "stdout",
     "output_type": "stream",
     "text": [
      "Journal title\n",
      "PLOS_ONE                         207\n",
      "J_BIOLOGICAL_CHEMISTRY            72\n",
      "NEURO_IMAGE                       36\n",
      "P.N.A.S                           35\n",
      "NUC_ACIDS_RESEARCH                29\n",
      "PLOSPATHOGENS                     24\n",
      "PLOSGENETICS                      24\n",
      "PLOSNEGLECTEDTROPICALDISEASES     20\n",
      "NATURECOMMUNICATIONS              19\n",
      "HUMANMOLECULARGENETICS            19\n",
      "dtype: int64\n"
     ]
    }
   ],
   "source": [
    "# Determine top ten journals by number of articles\n",
    "top_10 = data.groupby('Journal title').size().sort_values(ascending=False)[:10]\n",
    "print(top_10)"
   ]
  },
  {
   "cell_type": "code",
   "execution_count": 12,
   "metadata": {},
   "outputs": [],
   "source": [
    "# CLEAN COST COLUMN\n",
    "\n",
    "# README says that all costs have already been converted into sterling (£)\n",
    "data = data.rename(columns={'COST (£) charged to Wellcome (inc VAT when charged)':'COST'})\n",
    "\n",
    "#remove the (£) and ($) symbols from columns and convert them into floats \n",
    "\n",
    "data['COST'] = data['COST'].apply(lambda x: str(x).replace('£', ''))\n",
    "data['COST'] = data['COST'].apply(lambda x: str(x).replace('$', ''))\n",
    "data['COST'] = data['COST'].apply(lambda x: float(x))"
   ]
  },
  {
   "cell_type": "code",
   "execution_count": 13,
   "metadata": {},
   "outputs": [],
   "source": [
    "# Define function to get desired statistics for each journal\n",
    "def get_journal_stats(x,name):\n",
    "    mean = x.mean()\n",
    "    median = x.median()\n",
    "    stdev = x.std()\n",
    "    print(\"----------------------------------------------------------------------------------\")\n",
    "    print(\"FOR {} THE ESTIMATED VALUES ARE.......\".format(name))\n",
    "    print(\"              MEAN=£{}\".format(round(mean,2)))\n",
    "    print(\"            MEDIAN=£{}\".format(round(median,2)))\n",
    "    print(\"STANDARD DEVIATION=£{}\".format(round(stdev,2)))"
   ]
  },
  {
   "cell_type": "code",
   "execution_count": 14,
   "metadata": {},
   "outputs": [
    {
     "name": "stdout",
     "output_type": "stream",
     "text": [
      "----------------------------------------------------------------------------------\n",
      "FOR PLOS ONE THE ESTIMATED VALUES ARE.......\n",
      "              MEAN=£COST    40472.29\n",
      "dtype: float64\n",
      "            MEDIAN=£COST    899.34\n",
      "dtype: float64\n",
      "STANDARD DEVIATION=£COST    193313.08\n",
      "dtype: float64\n",
      "----------------------------------------------------------------------------------\n",
      "FOR THE JOURNAL OF BIOLOGICAL CHEMISTRY THE ESTIMATED VALUES ARE.......\n",
      "              MEAN=£COST    29118.95\n",
      "dtype: float64\n",
      "            MEDIAN=£COST    1319.55\n",
      "dtype: float64\n",
      "STANDARD DEVIATION=£COST    165260.79\n",
      "dtype: float64\n",
      "----------------------------------------------------------------------------------\n",
      "FOR NEURO IMAGE THE ESTIMATED VALUES ARE.......\n",
      "              MEAN=£COST    2057.32\n",
      "dtype: float64\n",
      "            MEDIAN=£COST    2289.24\n",
      "dtype: float64\n",
      "STANDARD DEVIATION=£COST    466.87\n",
      "dtype: float64\n",
      "----------------------------------------------------------------------------------\n",
      "FOR PNAS THE ESTIMATED VALUES ARE.......\n",
      "              MEAN=£COST    29327.79\n",
      "dtype: float64\n",
      "            MEDIAN=£COST    734.0\n",
      "dtype: float64\n",
      "STANDARD DEVIATION=£COST    168899.48\n",
      "dtype: float64\n",
      "----------------------------------------------------------------------------------\n",
      "FOR NUCLEIC ACIDS RESEARCH THE ESTIMATED VALUES ARE.......\n",
      "              MEAN=£COST    1162.34\n",
      "dtype: float64\n",
      "            MEDIAN=£COST    852.0\n",
      "dtype: float64\n",
      "STANDARD DEVIATION=£COST    442.15\n",
      "dtype: float64\n"
     ]
    }
   ],
   "source": [
    "# GET STATS FOR ALL JOURNALS\n",
    "\n",
    "# SORT INTO TOP 5 JOURNALS\n",
    "plos_one = data[data['Journal title']=='PLOS_ONE']\n",
    "j_biol_chem = data[data['Journal title']=='J_BIOLOGICAL_CHEMISTRY']\n",
    "neuro_image = data[data['Journal title']=='NEURO_IMAGE']\n",
    "pnas = data[data['Journal title']=='P.N.A.S']\n",
    "nuc_acids = data[data['Journal title']=='NUC_ACIDS_RESEARCH']\n",
    "\n",
    "# PRINT STATISTICS FOR JOURNALS\n",
    "get_journal_stats(plos_one,\"PLOS ONE\")\n",
    "get_journal_stats(j_biol_chem,\"THE JOURNAL OF BIOLOGICAL CHEMISTRY\")\n",
    "get_journal_stats(neuro_image,\"NEURO IMAGE\")\n",
    "get_journal_stats(pnas,\"PNAS\")\n",
    "get_journal_stats(nuc_acids,\"NUCLEIC ACIDS RESEARCH\")\n"
   ]
  }
 ],
 "metadata": {
  "kernelspec": {
   "display_name": "Python 3",
   "language": "python",
   "name": "python3"
  },
  "language_info": {
   "codemirror_mode": {
    "name": "ipython",
    "version": 3
   },
   "file_extension": ".py",
   "mimetype": "text/x-python",
   "name": "python",
   "nbconvert_exporter": "python",
   "pygments_lexer": "ipython3",
   "version": "3.7.2"
  }
 },
 "nbformat": 4,
 "nbformat_minor": 2
}
