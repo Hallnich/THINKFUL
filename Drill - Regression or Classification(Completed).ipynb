{
 "cells": [
  {
   "cell_type": "markdown",
   "metadata": {},
   "source": [
    "# Question 1\n",
    "Type = Regression\n",
    "\n",
    "    Reasoning - Only using a specified range as you would have to do in a classification model would hinder this model since it potentially couldn't include people who are going to spend a drastically larger amount than everyone else will on the site\n",
    "    \n",
    "# Question 2\n",
    "Type = Classification\n",
    "   \n",
    "    Reasoning - There are only a finite number of colors that a person would get for their car so the desired output of this model is categorical\n",
    "    \n",
    "# Question 3\n",
    "Type = Classification\n",
    "\n",
    "    Reasoning - While a regression would most likely work in this instance, it would be very rare for any family to have any more than most likely 3 or 4 children so a classification model would work more effectively\n",
    "    \n",
    "# Question 4\n",
    "Type = Classification\n",
    "\n",
    "    Reasoning - The desired output is a binary output (eg. Y/N) so a regression model would not make sense in this instance\n",
    "    \n",
    "# Question 5\n",
    "Type = Regression\n",
    "\n",
    "    Reasoning - If the desired output of the model is the number of times a person will get sick per year, the model should be able to include extreme cases.  However, depending on exactly how the model will be used, it might make more sense to use a categorical model since anyone who will get sick beyond a certain number of times can most likely be grouped into one category such as \"at risk\" for the purposes of the model.\n",
    "    \n",
    "# Question 6 \n",
    "Type = Classification\n",
    "\n",
    "    Reasoning - Probability is a finite scale (0-1).  Also, as mentioned in the question above, depending on the way the output of the model will be used, people who will be sick beyond a certain number of times a year or who will have a high probability of getting sick in the next month can be grouped into a single category such as \"at risk\" for the purposes of the model. \n",
    "    \n",
    "# Question 7\n",
    "Type = Regression\n",
    "\n",
    "    Reasoning - A regression would better show how effective each medication could be, so with the regression the patient would be more informed about all of the possible choices and could to choose to do something such as buy a cheaper generic brand of a medication that works almost as well.  With a classification model, the patient would simply just be told the best medicine they could take."
   ]
  },
  {
   "cell_type": "code",
   "execution_count": null,
   "metadata": {},
   "outputs": [],
   "source": []
  }
 ],
 "metadata": {
  "kernelspec": {
   "display_name": "Python 3",
   "language": "python",
   "name": "python3"
  },
  "language_info": {
   "codemirror_mode": {
    "name": "ipython",
    "version": 3
   },
   "file_extension": ".py",
   "mimetype": "text/x-python",
   "name": "python",
   "nbconvert_exporter": "python",
   "pygments_lexer": "ipython3",
   "version": "3.7.2"
  }
 },
 "nbformat": 4,
 "nbformat_minor": 2
}
