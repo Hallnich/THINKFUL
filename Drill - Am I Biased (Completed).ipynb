{
 "cells": [
  {
   "cell_type": "markdown",
   "metadata": {},
   "source": [
    "# Question 1\n",
    "Since both emails were tested at different times of year the results will most likely be skewed.  There are a number of ways that this could skew the data, one examaple is that it is possible that more people who swim indoors will respond to the email in February and more people who swim outdoors will respond to the email in May, which could influence the types of products that are bought due to the ad campaign.  It is also likely that a greater amount of swimming gear is bought in May than in February simply due to the weather."
   ]
  },
  {
   "cell_type": "markdown",
   "metadata": {},
   "source": [
    "# Question 2 \n",
    "This makes sense because of course people who are actively seeking treatment for anxiety have much higher rates of anxiety than the general population.  Virtually everyone who would be seeking treatment for anxiety is most likely already affected by it in some way."
   ]
  },
  {
   "cell_type": "markdown",
   "metadata": {},
   "source": [
    "# Question 3\n",
    "One week of data is not nearly enough time for the data to be representative.   This is because people are likely curious what the billboard is for and might just be visiting the site out of curiosity rather than to actually buy the product.  To actually get representative data you would have to compare the results without the billboard to the results with the billboard over a much longer range of time."
   ]
  },
  {
   "cell_type": "markdown",
   "metadata": {},
   "source": [
    "# Question 4\n",
    "This experiment has the same issue as the one above,  a week is not nearly enough time to see if the desired change has occurred.  It is possible that the loyalty program does not change the number of visits but rather the amount of money spent during each visit since it sounds like it is a program for frequent customers.  Furthermore, a  loyalty program might not even be known about by the majority of potential customers yet.  In order to get more representative data the data should be collected for a much longer period of time and you should track other data such as the number of customers enrolling in the program as well as the common traits of customers enrolling in the program."
   ]
  }
 ],
 "metadata": {
  "kernelspec": {
   "display_name": "Python 3",
   "language": "python",
   "name": "python3"
  },
  "language_info": {
   "codemirror_mode": {
    "name": "ipython",
    "version": 3
   },
   "file_extension": ".py",
   "mimetype": "text/x-python",
   "name": "python",
   "nbconvert_exporter": "python",
   "pygments_lexer": "ipython3",
   "version": "3.7.2"
  }
 },
 "nbformat": 4,
 "nbformat_minor": 2
}
