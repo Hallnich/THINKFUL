{
 "cells": [
  {
   "cell_type": "code",
   "execution_count": 19,
   "metadata": {},
   "outputs": [],
   "source": [
    "import numpy as np\n",
    "import pandas as pd\n",
    "import statistics\n",
    "%matplotlib inline"
   ]
  },
  {
   "cell_type": "code",
   "execution_count": 20,
   "metadata": {},
   "outputs": [
    {
     "name": "stdout",
     "output_type": "stream",
     "text": [
      "                    Values\n",
      "Mean                  9.86\n",
      "Median               10.00\n",
      "Mode                  8.00\n",
      "Standard Deviation    2.73\n",
      "Variance              7.48\n",
      "Standard Error        1.03\n"
     ]
    }
   ],
   "source": [
    "# Question 1\n",
    "\n",
    "ages = (14,12,11,10,8,6,8)\n",
    "mean = np.mean(ages)\n",
    "median = np.median(ages)\n",
    "mode = statistics.mode(ages)\n",
    "variance = np.var(ages)\n",
    "stdev = np.std(ages)\n",
    "n=len(ages)\n",
    "serror = stdev / (n**0.5)\n",
    "\n",
    "labels = (\"Mean\",\"Median\",\"Mode\",\"Standard Deviation\",\"Variance\",\"Standard Error\")\n",
    "values = (round(mean,2),median,mode,round(stdev,2),round(variance,2),round(serror,2))\n",
    "answer = pd.DataFrame(index=labels)\n",
    "answer['Values']= values\n",
    "print(answer)\n"
   ]
  },
  {
   "cell_type": "markdown",
   "metadata": {},
   "source": [
    "# Question 2 \n",
    "\n",
    "I would choose either the mean or the mode as the estimate of the central tendency.\n",
    "\n",
    "I would choose the mean because it shows the average age that the  children appeared on the show\n",
    "\n",
    "I would choose the mode because it shows the most common age that the children first appeared on the show\n",
    "\n",
    "I would choose the standard deviation as the estimate of the variance because standard deviation is expressed in the same units as the data itself making preferential to the variance\n",
    "\n"
   ]
  },
  {
   "cell_type": "code",
   "execution_count": 27,
   "metadata": {},
   "outputs": [
    {
     "name": "stdout",
     "output_type": "stream",
     "text": [
      "                    Values\n",
      "Mean                 10.00\n",
      "Median               10.00\n",
      "Mode                  8.00\n",
      "Standard Deviation    2.33\n",
      "Variance              5.43\n",
      "Standard Error        0.88\n"
     ]
    }
   ],
   "source": [
    "# Question 3\n",
    "\n",
    "# Everything excluding the mode and the median changed from the first example\n",
    "\n",
    "ages = (14,12,11,10,8,(6+1),8)\n",
    "mean = np.mean(ages)\n",
    "median = np.median(ages)\n",
    "mode = statistics.mode(ages)\n",
    "variance = np.var(ages)\n",
    "stdev = np.std(ages)\n",
    "n=len(ages)\n",
    "serror = stdev / (n**0.5)\n",
    "\n",
    "labels = (\"Mean\",\"Median\",\"Mode\",\"Standard Deviation\",\"Variance\",\"Standard Error\")\n",
    "values = (round(mean,2),median,mode,round(stdev,2),round(variance,2),round(serror,2))\n",
    "answer = pd.DataFrame(index=labels)\n",
    "answer['Values']= values\n",
    "print(answer)"
   ]
  },
  {
   "cell_type": "code",
   "execution_count": 25,
   "metadata": {},
   "outputs": [
    {
     "name": "stdout",
     "output_type": "stream",
     "text": [
      "                   Values\n",
      "Mean                 8.86\n",
      "Median                 10\n",
      "Mode                   NA\n",
      "Standard Deviation   4.02\n",
      "Variance            16.12\n",
      "Standard Error       1.52\n"
     ]
    }
   ],
   "source": [
    "# Question 4\n",
    "\n",
    "# I would only use the mean and the standard deviation to describe the data this time since the mode would be meaningless now that all ages occur only once\n",
    "\n",
    "ages = (14,12,11,10,8,6,1)\n",
    "mean = np.mean(ages)\n",
    "median = np.median(ages)\n",
    "mode = \"NA\"\n",
    "variance = np.var(ages)\n",
    "stdev = np.std(ages)\n",
    "n=len(ages)\n",
    "serror = stdev / (n**0.5)\n",
    "\n",
    "labels = (\"Mean\",\"Median\",\"Mode\",\"Standard Deviation\",\"Variance\",\"Standard Error\")\n",
    "values = (round(mean,2),median,mode,round(stdev,2),round(variance,2),round(serror,2))\n",
    "answer = pd.DataFrame(index=labels)\n",
    "answer['Values']= values\n",
    "print(answer)"
   ]
  },
  {
   "cell_type": "markdown",
   "metadata": {},
   "source": [
    "# Question 5\n",
    "\n",
    "SciPhi Phanatic would attract special group of people so other 3 averaged \n",
    "Result = 20%\n"
   ]
  },
  {
   "cell_type": "code",
   "execution_count": null,
   "metadata": {},
   "outputs": [],
   "source": []
  }
 ],
 "metadata": {
  "kernelspec": {
   "display_name": "Python 3",
   "language": "python",
   "name": "python3"
  },
  "language_info": {
   "codemirror_mode": {
    "name": "ipython",
    "version": 3
   },
   "file_extension": ".py",
   "mimetype": "text/x-python",
   "name": "python",
   "nbconvert_exporter": "python",
   "pygments_lexer": "ipython3",
   "version": "3.7.2"
  }
 },
 "nbformat": 4,
 "nbformat_minor": 2
}
