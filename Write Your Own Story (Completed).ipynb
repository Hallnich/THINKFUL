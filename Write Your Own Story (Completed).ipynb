{
 "cells": [
  {
   "cell_type": "markdown",
   "metadata": {},
   "source": [
    "# QUESTION 1\n",
    "    \n",
    "   While I am still figuring out exactly what I want to do with my career, I am very sure that I want to be doing something in some way related to the field of environmental science.  After this bootcamp I hope to be able to combine the skills I gained in topics such as python and machine learning with my prior experience working with spatial data in a number of software platforms such as ArcGIS and the NOAA HYSPLIT MODEL and apply this knowledge to some role working with large datasets of environmental data.  While the are a number of areas that I could see myself doing this, given my current experience with the subject and the availability of jobs in this area with organizations like NOAA, ESRI, and NASA  the area I will most likely specialize deeply in is atmospheric science or meteorology."
   ]
  },
  {
   "cell_type": "markdown",
   "metadata": {},
   "source": [
    "# Question 2\n",
    "\n",
    "   My ideal job would involve taking data and images generated from satellites and using this information to answer specific questions.  While, I am very sure that I want to specialize somewhere in the field of environmental science, I am still unsure of exactly what skills I want to specialize in, although I am fairly certain that it will be some topic relating to atmospheric science or climate sciences.  After completing this course I will most likely try to work for some organization doing environmental consulting work or environmental remediation. "
   ]
  },
  {
   "cell_type": "markdown",
   "metadata": {},
   "source": [
    "# Question 3\n",
    "\n",
    "   Hard Working analytical environmental chemist with 1 1/2 of experience working in a professional environmental laboratory setting.  Experience with a wide range of skills and techniques relevant to the field of environmental science.  Certified in Geographic Information Systems (GIS) with experince working with python, matlab, R, and SQL."
   ]
  },
  {
   "cell_type": "code",
   "execution_count": null,
   "metadata": {},
   "outputs": [],
   "source": []
  },
  {
   "cell_type": "code",
   "execution_count": null,
   "metadata": {},
   "outputs": [],
   "source": []
  },
  {
   "cell_type": "code",
   "execution_count": null,
   "metadata": {},
   "outputs": [],
   "source": []
  },
  {
   "cell_type": "code",
   "execution_count": null,
   "metadata": {},
   "outputs": [],
   "source": []
  }
 ],
 "metadata": {
  "kernelspec": {
   "display_name": "Python 3",
   "language": "python",
   "name": "python3"
  },
  "language_info": {
   "codemirror_mode": {
    "name": "ipython",
    "version": 3
   },
   "file_extension": ".py",
   "mimetype": "text/x-python",
   "name": "python",
   "nbconvert_exporter": "python",
   "pygments_lexer": "ipython3",
   "version": "3.7.2"
  }
 },
 "nbformat": 4,
 "nbformat_minor": 2
}
