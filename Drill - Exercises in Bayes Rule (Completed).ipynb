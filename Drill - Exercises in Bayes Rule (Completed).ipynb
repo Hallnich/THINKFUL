{
 "cells": [
  {
   "cell_type": "code",
   "execution_count": 1,
   "metadata": {},
   "outputs": [],
   "source": [
    "import numpy as np\n",
    "import pandas as pd\n",
    "import matplotlib.pyplot as plt\n",
    "%matplotlib inline"
   ]
  },
  {
   "cell_type": "code",
   "execution_count": 2,
   "metadata": {},
   "outputs": [
    {
     "name": "stdout",
     "output_type": "stream",
     "text": [
      "The probability that the test will be positive is 0.1044\n"
     ]
    }
   ],
   "source": [
    "# QUESTION 1\n",
    "\n",
    "positive_result = 0.98\n",
    "infected = 0.005\n",
    "not_infected = 0.995\n",
    "false_positive = 0.1\n",
    "\n",
    "p_positive = (positive_result)*(infected)+(false_positive)*(not_infected)\n",
    "statement = \"The probability that the test will be positive is {}\"\n",
    "print(statement.format(p_positive))"
   ]
  },
  {
   "cell_type": "code",
   "execution_count": 6,
   "metadata": {},
   "outputs": [
    {
     "name": "stdout",
     "output_type": "stream",
     "text": [
      "The probability that the test will identify a sufferer of Thripshaw's is 98%\n"
     ]
    }
   ],
   "source": [
    "# QUESTION 2\n",
    "\n",
    "print(\"The probability that the test will identify a sufferer of Thripshaw\\'s is 98%\")"
   ]
  },
  {
   "cell_type": "code",
   "execution_count": 7,
   "metadata": {},
   "outputs": [
    {
     "name": "stdout",
     "output_type": "stream",
     "text": [
      "The probability that the test will identify a non sufferer of Thripshaw's is 90%\n"
     ]
    }
   ],
   "source": [
    "# QUESTION 3\n",
    "\n",
    "print(\"The probability that the test will identify a non sufferer of Thripshaw\\'s is 90%\")\n"
   ]
  },
  {
   "cell_type": "code",
   "execution_count": 13,
   "metadata": {},
   "outputs": [
    {
     "name": "stdout",
     "output_type": "stream",
     "text": [
      "The probability that the test will misclassify the person is 9.96%\n"
     ]
    }
   ],
   "source": [
    "# QUESTION 4\n",
    "non_sufferer = 0.90\n",
    "\n",
    "incorrect = 1 -((positive_result)*(infected)+(non_sufferer)*(not_infected))\n",
    "statement = (\"The probability that the test will misclassify the person is {}%\")\n",
    "print(statement.format(round(incorrect*100,2)))"
   ]
  },
  {
   "cell_type": "code",
   "execution_count": null,
   "metadata": {},
   "outputs": [],
   "source": []
  }
 ],
 "metadata": {
  "kernelspec": {
   "display_name": "Python 3",
   "language": "python",
   "name": "python3"
  },
  "language_info": {
   "codemirror_mode": {
    "name": "ipython",
    "version": 3
   },
   "file_extension": ".py",
   "mimetype": "text/x-python",
   "name": "python",
   "nbconvert_exporter": "python",
   "pygments_lexer": "ipython3",
   "version": "3.7.2"
  }
 },
 "nbformat": 4,
 "nbformat_minor": 2
}
