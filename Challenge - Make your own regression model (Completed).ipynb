{
 "cells": [
  {
   "cell_type": "code",
   "execution_count": 30,
   "metadata": {},
   "outputs": [],
   "source": [
    "import numpy as np\n",
    "import pandas as pd\n",
    "import matplotlib.pyplot as plt\n",
    "import seaborn as sns\n",
    "from sklearn import linear_model\n",
    "from matplotlib.mlab import PCA as mlabPCA\n",
    "from sklearn.preprocessing import StandardScaler\n",
    "from sklearn.decomposition import PCA "
   ]
  },
  {
   "cell_type": "code",
   "execution_count": 31,
   "metadata": {},
   "outputs": [],
   "source": [
    "# Define Functions to use throughout notebook\n",
    "def do_regression(X,Y):\n",
    "    regression = linear_model.LinearRegression()\n",
    "    regression.fit(X,Y)\n",
    "    print(\"Coefficients:\\n\",regression.coef_)\n",
    "    print(\"\\nIntercept:\",regression.intercept_)\n",
    "    print(\"\\nR^2 Value:\",regression.score(X,Y))\n",
    "\n",
    "def show_skew(X,Y):\n",
    "    regression = linear_model.LinearRegression()\n",
    "    regression.fit(X,Y)\n",
    "    predicted = regression.predict(X).ravel()\n",
    "    actual = Y\n",
    "    residual = actual - predicted\n",
    "    f = plt.figure(figsize=(20,5))\n",
    "    plt.subplot(131)\n",
    "    sns.distplot(residual,bins=50)\n",
    "    plt.title('Residual Counts')\n",
    "    plt.xlabel('Residual')\n",
    "    plt.ylabel('Count')\n",
    "    plt.subplot(132)\n",
    "    plt.scatter(predicted, residual)\n",
    "    plt.xlabel('Predicted')\n",
    "    plt.ylabel('Residual')\n",
    "    plt.axhline(y=0)\n",
    "    plt.title('Residual vs. Predicted')\n",
    "    plt.show()    "
   ]
  },
  {
   "cell_type": "code",
   "execution_count": 33,
   "metadata": {},
   "outputs": [],
   "source": [
    "# Read in data\n",
    "df = pd.read_csv('C:\\\\Users\\halln\\Desktop\\THINKFUL\\Datasets\\FBI_Table_Drill\\data.csv',skiprows=4)\n",
    "\n",
    "# Drop columns with lots of NA values\n",
    "df = df.drop(['Rape\\n(revised\\ndefinition)1','Arson3'],axis=1)\n",
    "\n",
    "# Then drop other rows with NA values from dataframe\n",
    "df =df.dropna()\n",
    "\n",
    "# Collect only needed data into new dataframe with better names\n",
    "data = pd.DataFrame(df['Population'])\n",
    "data[['Burglary','Car_Theft','Larceny','Property_Crime']]= df[['Burglary','Motor\\nvehicle\\ntheft','Larceny-\\ntheft','Property\\ncrime']]\n",
    "\n",
    "# Calculate Per Capita values for variables of interest\n",
    "data['PropCrime_PC'] = data.loc[:,'Property_Crime'] / data.loc[:,'Population']\n",
    "data['Burglary_PC'] = data.loc[:,'Burglary'] / data.loc[:,'Population']\n",
    "data['CarTheft_PC'] = data.loc[:,'Car_Theft'] / data.loc[:,'Population']\n",
    "data['Larceny_PC'] = data.loc[:,'Larceny'] / data.loc[:,'Population']"
   ]
  },
  {
   "cell_type": "code",
   "execution_count": 34,
   "metadata": {},
   "outputs": [
    {
     "name": "stdout",
     "output_type": "stream",
     "text": [
      "Coefficients:\n",
      " [1. 1. 1.]\n",
      "\n",
      "Intercept: -3.469446951953614e-18\n",
      "\n",
      "R^2 Value: 1.0\n"
     ]
    }
   ],
   "source": [
    "# Collect variables for Regression and show model \n",
    "Y = data['PropCrime_PC']\n",
    "X = data[['Burglary_PC','CarTheft_PC','Larceny_PC']]\n",
    "do_regression(X,Y)"
   ]
  },
  {
   "cell_type": "code",
   "execution_count": 35,
   "metadata": {},
   "outputs": [
    {
     "data": {
      "image/png": "[encoded data removed]",
      "text/plain": [
       "<Figure size 1440x360 with 2 Axes>"
      ]
     },
     "metadata": {
      "needs_background": "light"
     },
     "output_type": "display_data"
    }
   ],
   "source": [
    "show_skew(X,Y)"
   ]
  },
  {
   "cell_type": "code",
   "execution_count": null,
   "metadata": {},
   "outputs": [],
   "source": []
  },
  {
   "cell_type": "code",
   "execution_count": null,
   "metadata": {},
   "outputs": [],
   "source": []
  },
  {
   "cell_type": "code",
   "execution_count": null,
   "metadata": {},
   "outputs": [],
   "source": []
  },
  {
   "cell_type": "code",
   "execution_count": null,
   "metadata": {},
   "outputs": [],
   "source": []
  },
  {
   "cell_type": "code",
   "execution_count": 183,
   "metadata": {},
   "outputs": [],
   "source": []
  },
  {
   "cell_type": "code",
   "execution_count": null,
   "metadata": {},
   "outputs": [],
   "source": []
  },
  {
   "cell_type": "code",
   "execution_count": null,
   "metadata": {},
   "outputs": [],
   "source": []
  },
  {
   "cell_type": "code",
   "execution_count": null,
   "metadata": {},
   "outputs": [],
   "source": []
  },
  {
   "cell_type": "code",
   "execution_count": null,
   "metadata": {},
   "outputs": [],
   "source": []
  },
  {
   "cell_type": "code",
   "execution_count": null,
   "metadata": {},
   "outputs": [],
   "source": []
  },
  {
   "cell_type": "code",
   "execution_count": null,
   "metadata": {},
   "outputs": [],
   "source": []
  },
  {
   "cell_type": "code",
   "execution_count": null,
   "metadata": {},
   "outputs": [],
   "source": []
  },
  {
   "cell_type": "code",
   "execution_count": null,
   "metadata": {},
   "outputs": [],
   "source": []
  },
  {
   "cell_type": "code",
   "execution_count": null,
   "metadata": {},
   "outputs": [],
   "source": []
  },
  {
   "cell_type": "code",
   "execution_count": null,
   "metadata": {},
   "outputs": [],
   "source": []
  },
  {
   "cell_type": "code",
   "execution_count": null,
   "metadata": {},
   "outputs": [],
   "source": []
  },
  {
   "cell_type": "code",
   "execution_count": null,
   "metadata": {},
   "outputs": [],
   "source": []
  },
  {
   "cell_type": "code",
   "execution_count": null,
   "metadata": {},
   "outputs": [],
   "source": []
  }
 ],
 "metadata": {
  "kernelspec": {
   "display_name": "Python 3",
   "language": "python",
   "name": "python3"
  },
  "language_info": {
   "codemirror_mode": {
    "name": "ipython",
    "version": 3
   },
   "file_extension": ".py",
   "mimetype": "text/x-python",
   "name": "python",
   "nbconvert_exporter": "python",
   "pygments_lexer": "ipython3",
   "version": "3.7.2"
  }
 },
 "nbformat": 4,
 "nbformat_minor": 2
}
