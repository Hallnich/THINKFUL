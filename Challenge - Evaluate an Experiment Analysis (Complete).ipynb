{
 "cells": [
  {
   "cell_type": "markdown",
   "metadata": {},
   "source": [
    "# QUESTION 1\n",
    "# Flaws in Current Experiment\n",
    "    - small sample size (only 50 droids in each group)\n",
    "    - groups most likely captured at different times/place under different circumstances\n",
    "    - only takes into account droids and not another types of robots/creatures\n",
    "    - Phrases were delivered by different people (eg. darth vader or emperor Palpetine) in each group  meaning that the results could showing which of them is a more effective speaker rather than which slogan is more effective\n",
    "\n",
    "# Alternative Experiment\n",
    "       I would have them seperate each group of captured prisoners into two equal groups randomly and have one person (either Darth Vader or Emperor Palpatine) deliver one of the slogans to each group and see the percent conversion from each group.  I would then repeat this experiment for many different types of prisoners captured from many different planets to determine which slogan is most effective overall.\n"
   ]
  },
  {
   "cell_type": "markdown",
   "metadata": {},
   "source": [
    "# QUESTION 2\n",
    "# Flaws in Current Experiment\n",
    "    - Jar Jar only went to the friendly planets and mace windu went to unfriendly planets so the values are not representative\n",
    "    - Doesn't say who survey was given to or what kinds of questions were on the survey\n",
    "\n",
    "# Alternative Experiment\n",
    "     I would first of all have each speaker go to 2 friendly planets and 2 unfriendly planets in order to make the results obtained more representative.  I would then also have a survey before and after the speech to see how people's attitudes changed through the speech to determine which of the speakers would truly be a better representative."
   ]
  },
  {
   "cell_type": "markdown",
   "metadata": {},
   "source": [
    "# QUESTION 3\n",
    "# Flaws in Current Experiment\n",
    "    - Satisfaction might be influenced by location to some extent so sorting by positions unequally distributed by location is not an accurate way to do this \n",
    "    - Could probably make comparison for three countries with equal amounts of each role present but the types of people each role attracts could influence reported satisfaction since different types of people are attracted to each job\n",
    "\n",
    "# Alternative Experiment\n",
    "     I would conduct the actual study in the same way since the desired result is still the average employee satisfaction for each role, however, I would interpret the results differently, looking at the average job satisfaction for each country and how that differed between the roles.  "
   ]
  },
  {
   "cell_type": "markdown",
   "metadata": {},
   "source": [
    "# QUESTION  4\n",
    "# Flaws in Current Experiment\n",
    "    - only accounts for people who opt in, not whole sample of people who use app.\n",
    "    - could be because people who don't increase their activity as quickly are more self conscious of this fact and thus don't want their physical activity data being tracked\n",
    "# Alternative Experiment\n",
    "     I would design the software differently to better track the effectiveness of the app. First of all, I would track the total number of people that download the app.  Next, I would change the app to make it so all fitness tracker data is submitted anonymously to the company so that the data will not be skewed by people who would opt out of having their data reported. I would then track the rise in activity levels of only users who use the app daily (or a certain number of times weekly depending on the data) to ensure that the data collected from each user is representative. "
   ]
  },
  {
   "cell_type": "markdown",
   "metadata": {},
   "source": [
    "# QUESTION 5\n",
    "# Flaws in Current Experiment\n",
    "    - The test version would still most likely be sorted into groups where students could cheat since the versions in the pile were not mixed\n",
    "    - She did not give out the versions as randomly as possible and try to make sure that no one is seated adjacent to someone with the same version to prevent cheating.\n",
    "\n",
    "# Alternative Experiment\n",
    "     I would suggest that the teacher hand out the tests in a way so that no student is seated next to another student with the same test version.  I would then give the same 3 tests to multiple classes and compare the average results for each version between all classes that took the test."
   ]
  }
 ],
 "metadata": {
  "kernelspec": {
   "display_name": "Python 3",
   "language": "python",
   "name": "python3"
  },
  "language_info": {
   "codemirror_mode": {
    "name": "ipython",
    "version": 3
   },
   "file_extension": ".py",
   "mimetype": "text/x-python",
   "name": "python",
   "nbconvert_exporter": "python",
   "pygments_lexer": "ipython3",
   "version": "3.7.2"
  }
 },
 "nbformat": 4,
 "nbformat_minor": 2
}
