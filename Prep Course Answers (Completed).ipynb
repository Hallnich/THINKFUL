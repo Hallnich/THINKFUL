{
 "cells": [
  {
   "cell_type": "code",
   "execution_count": 83,
   "metadata": {},
   "outputs": [],
   "source": [
    "import pandas as pd\n",
    "import numpy as np\n",
    "import matplotlib.pyplot as plt\n",
    "%matplotlib inline"
   ]
  },
  {
   "cell_type": "code",
   "execution_count": 84,
   "metadata": {},
   "outputs": [],
   "source": [
    "plane_crashes = pd.read_csv('plane_crashes_data.csv')"
   ]
  },
  {
   "cell_type": "code",
   "execution_count": 85,
   "metadata": {},
   "outputs": [
    {
     "data": {
      "text/html": [
       "<div>\n",
       "<style scoped>\n",
       "    .dataframe tbody tr th:only-of-type {\n",
       "        vertical-align: middle;\n",
       "    }\n",
       "\n",
       "    .dataframe tbody tr th {\n",
       "        vertical-align: top;\n",
       "    }\n",
       "\n",
       "    .dataframe thead th {\n",
       "        text-align: right;\n",
       "    }\n",
       "</style>\n",
       "<table border=\"1\" class=\"dataframe\">\n",
       "  <thead>\n",
       "    <tr style=\"text-align: right;\">\n",
       "      <th></th>\n",
       "      <th>month</th>\n",
       "      <th>year</th>\n",
       "      <th>aboard</th>\n",
       "      <th>fatalities</th>\n",
       "    </tr>\n",
       "  </thead>\n",
       "  <tbody>\n",
       "    <tr>\n",
       "      <th>count</th>\n",
       "      <td>2709.000000</td>\n",
       "      <td>2709.000000</td>\n",
       "      <td>2709.000000</td>\n",
       "      <td>2709.000000</td>\n",
       "    </tr>\n",
       "    <tr>\n",
       "      <th>mean</th>\n",
       "      <td>6.554079</td>\n",
       "      <td>1981.927279</td>\n",
       "      <td>35.817276</td>\n",
       "      <td>25.816537</td>\n",
       "    </tr>\n",
       "    <tr>\n",
       "      <th>std</th>\n",
       "      <td>3.532468</td>\n",
       "      <td>16.709136</td>\n",
       "      <td>54.306779</td>\n",
       "      <td>42.599461</td>\n",
       "    </tr>\n",
       "    <tr>\n",
       "      <th>min</th>\n",
       "      <td>1.000000</td>\n",
       "      <td>1950.000000</td>\n",
       "      <td>0.000000</td>\n",
       "      <td>0.000000</td>\n",
       "    </tr>\n",
       "    <tr>\n",
       "      <th>25%</th>\n",
       "      <td>3.000000</td>\n",
       "      <td>1968.000000</td>\n",
       "      <td>5.000000</td>\n",
       "      <td>3.000000</td>\n",
       "    </tr>\n",
       "    <tr>\n",
       "      <th>50%</th>\n",
       "      <td>7.000000</td>\n",
       "      <td>1983.000000</td>\n",
       "      <td>15.000000</td>\n",
       "      <td>9.000000</td>\n",
       "    </tr>\n",
       "    <tr>\n",
       "      <th>75%</th>\n",
       "      <td>10.000000</td>\n",
       "      <td>1997.000000</td>\n",
       "      <td>44.000000</td>\n",
       "      <td>29.000000</td>\n",
       "    </tr>\n",
       "    <tr>\n",
       "      <th>max</th>\n",
       "      <td>12.000000</td>\n",
       "      <td>2009.000000</td>\n",
       "      <td>644.000000</td>\n",
       "      <td>583.000000</td>\n",
       "    </tr>\n",
       "  </tbody>\n",
       "</table>\n",
       "</div>"
      ],
      "text/plain": [
       "             month         year       aboard   fatalities\n",
       "count  2709.000000  2709.000000  2709.000000  2709.000000\n",
       "mean      6.554079  1981.927279    35.817276    25.816537\n",
       "std       3.532468    16.709136    54.306779    42.599461\n",
       "min       1.000000  1950.000000     0.000000     0.000000\n",
       "25%       3.000000  1968.000000     5.000000     3.000000\n",
       "50%       7.000000  1983.000000    15.000000     9.000000\n",
       "75%      10.000000  1997.000000    44.000000    29.000000\n",
       "max      12.000000  2009.000000   644.000000   583.000000"
      ]
     },
     "execution_count": 85,
     "metadata": {},
     "output_type": "execute_result"
    }
   ],
   "source": [
    "# Describe Data in plane crashes\n",
    "plane_crashes.describe()"
   ]
  },
  {
   "cell_type": "code",
   "execution_count": 86,
   "metadata": {},
   "outputs": [
    {
     "name": "stdout",
     "output_type": "stream",
     "text": [
      "month\n",
      "1     255\n",
      "2     209\n",
      "3     251\n",
      "4     204\n",
      "5     181\n",
      "6     202\n",
      "7     234\n",
      "8     239\n",
      "9     228\n",
      "10    224\n",
      "11    230\n",
      "12    252\n",
      "Name: fatalities, dtype: int64\n",
      "255\n"
     ]
    }
   ],
   "source": [
    "# Group plane crashes by month and determine number of plane crashes that occurred during each month\n",
    "\n",
    "monthly = plane_crashes.groupby('month').count()\n",
    "print(monthly['fatalities'])\n",
    "print(np.max(monthly['fatalities']))"
   ]
  },
  {
   "cell_type": "code",
   "execution_count": 87,
   "metadata": {},
   "outputs": [
    {
     "name": "stdout",
     "output_type": "stream",
     "text": [
      "583\n"
     ]
    }
   ],
   "source": [
    "# Determine max fatalities in one crash\n",
    "max_fatalities = np.max(plane_crashes['fatalities'])\n",
    "print(max_fatalities)"
   ]
  },
  {
   "cell_type": "code",
   "execution_count": 88,
   "metadata": {},
   "outputs": [
    {
     "name": "stdout",
     "output_type": "stream",
     "text": [
      "The probability that a flight has had 1 or more fatalities is 98.0\n"
     ]
    }
   ],
   "source": [
    "# Determine count of flights that have had 1 or more fatalitites\n",
    "\n",
    "one_more = plane_crashes[plane_crashes['fatalities'] >= 1]\n",
    "count1 = plane_crashes['fatalities'].count()\n",
    "count2 = one_more['fatalities'].count()\n",
    "probability= (count2/count1)\n",
    "statement = \"The probability that a flight has had 1 or more fatalities is {}\"\n",
    "print(statement.format(round(probability,2)*100))"
   ]
  },
  {
   "cell_type": "code",
   "execution_count": 89,
   "metadata": {},
   "outputs": [
    {
     "name": "stdout",
     "output_type": "stream",
     "text": [
      "0.8231319223510564\n"
     ]
    }
   ],
   "source": [
    "# Add column calculating percentage of passengers killed and determine mean\n",
    "plane_crashes['Percentage'] = plane_crashes['fatalities'] /  plane_crashes['aboard']\n",
    "print(plane_crashes['Percentage'].mean())"
   ]
  },
  {
   "cell_type": "code",
   "execution_count": null,
   "metadata": {},
   "outputs": [],
   "source": []
  },
  {
   "cell_type": "code",
   "execution_count": null,
   "metadata": {},
   "outputs": [],
   "source": []
  },
  {
   "cell_type": "code",
   "execution_count": null,
   "metadata": {},
   "outputs": [],
   "source": []
  }
 ],
 "metadata": {
  "kernelspec": {
   "display_name": "Python 3",
   "language": "python",
   "name": "python3"
  },
  "language_info": {
   "codemirror_mode": {
    "name": "ipython",
    "version": 3
   },
   "file_extension": ".py",
   "mimetype": "text/x-python",
   "name": "python",
   "nbconvert_exporter": "python",
   "pygments_lexer": "ipython3",
   "version": "3.7.2"
  }
 },
 "nbformat": 4,
 "nbformat_minor": 2
}
