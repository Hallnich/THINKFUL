{
 "cells": [
  {
   "cell_type": "markdown",
   "metadata": {},
   "source": [
    "# Question 1 \n",
    "December 24th is around the holidays so it is likely that the data obtained is not representative of the availability year round\n",
    "\n",
    "# Question 2\n",
    "This data was collected the day after 9/11 in new york city so there would most likely be an abnormally large amount of people utilizing the mental health services in NYC this day\n",
    "\n",
    "# Question 3\n",
    "the ages are very skewed and most participants are highschool/college aged so the results will not be representative of a larger age range"
   ]
  }
 ],
 "metadata": {
  "kernelspec": {
   "display_name": "Python 3",
   "language": "python",
   "name": "python3"
  },
  "language_info": {
   "codemirror_mode": {
    "name": "ipython",
    "version": 3
   },
   "file_extension": ".py",
   "mimetype": "text/x-python",
   "name": "python",
   "nbconvert_exporter": "python",
   "pygments_lexer": "ipython3",
   "version": "3.7.2"
  }
 },
 "nbformat": 4,
 "nbformat_minor": 2
}
