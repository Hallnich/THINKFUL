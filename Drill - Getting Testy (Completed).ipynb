{
 "cells": [
  {
   "cell_type": "markdown",
   "metadata": {},
   "source": [
    "# Does a new supplement help people sleep better?\n",
    "In order to test this I would compare the supplement to a placebo.  I would do this by getting as large a sample size as possible, most likely by offering a free trial of the supplement in order for feedback on its effects or possibly some type of financial incentive.  Then, I would take all of the people that this will be tested on and divide them into two groups as randomly as possible giving one a placebo and one the supplement.  Within each group I would have each person report traits such as some basic characteristics about themselves such as gender, weight, height, along with any medications they currently might be taking.  I would then have them track their sleep based on length of sleep and rate the quality of sleep on a scale of 1-10 for as long a period as would be feasible within the scope of the study (the longer the time period the more representative the data, but also the more it will cost in terms of free supplements given out).  Then I would have them track their sleep while taking the supplement/placebo for the same length of time.  In order to test whether the supplement helps people to sleep I would see if the average length and quality of sleep increased a significant amount when people began taking the supplement, and if the results received from the supplement were statistically different from the placebo.  I would hypothesize that having people taking a pill that is supposed to help them sleep better will cause an increase in the perceived quality of sleep for both the placebo and the supplement due to the placebo effect.  \n"
   ]
  },
  {
   "cell_type": "markdown",
   "metadata": {},
   "source": [
    "# Will new uniforms help a gyms business?\n",
    "\n",
    "If it is a gym chain, the uniforms could be employed at one of their locations, or a select few locations (most likely in the most population dense areas or at least areas with similar population densities so that there are a lot of people within each gym for the comparison to be made with) in order to test the effect that they have on people joining the gym.  The study would most likely run sometime in the spring since I would imagine gyms tend to see a much greater number of signups early in the year and around the holidays, and would track data about signups as well as how long people keep renewing their membership at the gym for.  The profit increase or signups could then be tracked and compared between gyms with the new uniform to gyms without the new uniform, and also compared with historic data about this from each gym before the uniforms were released anywhere.  For the uniforms to be considered a help to the gyms business, the data would have to show that not only did the profits or signups at the gyms with the uniform increase more than the other gyms, but they increased at a faster rate than they have historically.  I hypothesize that new uniforms would help the business if they are well designed since it has been shown that people are more likely to sign up for gym memberships when their incentives offered in the past. "
   ]
  },
  {
   "cell_type": "markdown",
   "metadata": {},
   "source": [
    "# Will a new homepage improve my online exotic pet rental business?\n",
    "In order to test this you could implement the new homepage and track the number of people that rent a pet after viewing the page versus how many people rented a pet after viewing the web page in the past.  Data could be recorded about the type of animal rented, the time spent on the homepage, and the percent of visitors that end up renting an animal.  You could also have forums posted in order ask customers who rent an animal about their experience in order to track user experience.  For the homepage to improve the rental business I would say that it would either have to show that it greatly favored by the users in the survey, or that the homepage generated statistically more rentals than the old page did.  I hypothesize that a more user friendly UI would result in an overall improvement of the pet rental business."
   ]
  },
  {
   "cell_type": "markdown",
   "metadata": {},
   "source": [
    "# If I put please read in the email subject will more people read my emails?\n",
    "One way to test this assertion would be to send out a huge number of emails to two randomized groups of people.  One group would receive emails with the heading 'please read' while the other group would receive some randomly generated emails from some type of chatbot.  Then at the bottom of every email there would be a button to press or box to check if the person receiving the email has read the email (which admittedly would introduce another potential variable since people may not choose to press the button).  These two groups could then be compared in terms of the number of people in each group reading the email, and if statistically more people read the 'please read' emails then you can assume that putting 'please read' on the subject line makes people more likely to read these emails."
   ]
  },
  {
   "cell_type": "code",
   "execution_count": null,
   "metadata": {},
   "outputs": [],
   "source": []
  }
 ],
 "metadata": {
  "kernelspec": {
   "display_name": "Python 3",
   "language": "python",
   "name": "python3"
  },
  "language_info": {
   "codemirror_mode": {
    "name": "ipython",
    "version": 3
   },
   "file_extension": ".py",
   "mimetype": "text/x-python",
   "name": "python",
   "nbconvert_exporter": "python",
   "pygments_lexer": "ipython3",
   "version": "3.7.2"
  }
 },
 "nbformat": 4,
 "nbformat_minor": 2
}
