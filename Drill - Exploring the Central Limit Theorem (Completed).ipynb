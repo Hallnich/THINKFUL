{
 "cells": [
  {
   "cell_type": "code",
   "execution_count": 1,
   "metadata": {},
   "outputs": [],
   "source": [
    "import numpy as np\n",
    "import pandas as pd\n",
    "import matplotlib.pyplot as plt\n",
    "%matplotlib inline"
   ]
  },
  {
   "cell_type": "code",
   "execution_count": 2,
   "metadata": {},
   "outputs": [],
   "source": [
    "pop1 = np.random.binomial(10, 0.2, 10000)\n",
    "pop2 = np.random.binomial(10,0.5, 10000) "
   ]
  },
  {
   "cell_type": "code",
   "execution_count": 3,
   "metadata": {},
   "outputs": [
    {
     "data": {
      "image/png": "[encoded data removed]",
      "text/plain": [
       "<Figure size 432x288 with 1 Axes>"
      ]
     },
     "metadata": {
      "needs_background": "light"
     },
     "output_type": "display_data"
    },
    {
     "name": "stdout",
     "output_type": "stream",
     "text": [
      "       Mean  Standard Deviation  Variance\n",
      "Pop 1  2.08                1.30      1.69\n",
      "Pop 2  4.96                1.47      2.16\n",
      "the difference between the sample means is -2.88\n"
     ]
    }
   ],
   "source": [
    "s1 = np.random.choice(pop1,100,replace=True)\n",
    "s2 = np.random.choice(pop2,100,replace=True)\n",
    "\n",
    "plt.hist(s1, alpha=0.5, label='Population 1') \n",
    "plt.hist(s2, alpha=0.5, label='Population 2') \n",
    "plt.legend(loc='upper right') \n",
    "plt.show()\n",
    "\n",
    "mean_1 = np.mean(s1)\n",
    "mean_2 = np.mean(s2)\n",
    "sd_1 = np.std(s1)\n",
    "sd_2 = np.std(s2)\n",
    "var_1 = np.var(s1)\n",
    "var_2 = np.var(s2)\n",
    "\n",
    "headers = (\"Mean\",\"Standard Deviation\",\"Variance\")\n",
    "s1_vals = (round(mean_1,2),round(sd_1,2),round(var_1,2))\n",
    "s2_vals = (round(mean_2,2),round(sd_2,2),round(var_2,2))\n",
    "\n",
    "array = np.array([(s1_vals),(s2_vals)])\n",
    "df_100 = pd.DataFrame(array)\n",
    "df_100.columns = headers\n",
    "df_100.index=['Pop 1','Pop 2']\n",
    "print(df_100)\n",
    "\n",
    "statement = \"the difference between the sample means is {}\"\n",
    "answer = mean_1 - mean_2\n",
    "answer_100 = statement.format(round(answer,2))\n",
    "print(answer_100)"
   ]
  },
  {
   "cell_type": "code",
   "execution_count": 4,
   "metadata": {},
   "outputs": [
    {
     "data": {
      "image/png": "[encoded data removed]",
      "text/plain": [
       "<Figure size 432x288 with 1 Axes>"
      ]
     },
     "metadata": {
      "needs_background": "light"
     },
     "output_type": "display_data"
    },
    {
     "name": "stdout",
     "output_type": "stream",
     "text": [
      "       Mean  Standard Deviation  Variance\n",
      "Pop 1  1.98                1.30       1.7\n",
      "Pop 2  5.01                1.48       2.2\n",
      "the difference between the sample means is -3.02\n"
     ]
    }
   ],
   "source": [
    "s1 = np.random.choice(pop1,1000,replace=True)\n",
    "s2 = np.random.choice(pop2,1000,replace=True)\n",
    "\n",
    "plt.hist(s1, alpha=0.5, label='Population 1') \n",
    "plt.hist(s2, alpha=0.5, label='Population 2') \n",
    "plt.legend(loc='upper right') \n",
    "plt.show()\n",
    "\n",
    "mean_1 = np.mean(s1)\n",
    "mean_2 = np.mean(s2)\n",
    "sd_1 = np.std(s1)\n",
    "sd_2 = np.std(s2)\n",
    "var_1 = np.var(s1)\n",
    "var_2 = np.var(s2)\n",
    "\n",
    "headers = (\"Mean\",\"Standard Deviation\",\"Variance\")\n",
    "s1_vals = (round(mean_1,2),round(sd_1,2),round(var_1,2))\n",
    "s2_vals = (round(mean_2,2),round(sd_2,2),round(var_2,2))\n",
    "\n",
    "array = np.array([(s1_vals),(s2_vals)])\n",
    "df_1000 = pd.DataFrame(array)\n",
    "df_1000.columns = headers\n",
    "df_1000.index=['Pop 1','Pop 2']\n",
    "print(df_1000)\n",
    "\n",
    "statement = \"the difference between the sample means is {}\"\n",
    "answer = mean_1 - mean_2\n",
    "answer_1000 = statement.format(round(answer,2))\n",
    "print(answer_1000)"
   ]
  },
  {
   "cell_type": "code",
   "execution_count": 5,
   "metadata": {},
   "outputs": [
    {
     "data": {
      "image/png": "[encoded data removed]",
      "text/plain": [
       "<Figure size 432x288 with 1 Axes>"
      ]
     },
     "metadata": {
      "needs_background": "light"
     },
     "output_type": "display_data"
    },
    {
     "name": "stdout",
     "output_type": "stream",
     "text": [
      "       Mean  Standard Deviation  Variance\n",
      "Pop 1  2.35                1.35      1.83\n",
      "Pop 2  4.85                1.53      2.33\n",
      "the difference between the sample means is -2.5\n"
     ]
    }
   ],
   "source": [
    "s1 = np.random.choice(pop1,20,replace=True)\n",
    "s2 = np.random.choice(pop2,20,replace=True)\n",
    "\n",
    "plt.hist(s1, alpha=0.5, label='Population 1') \n",
    "plt.hist(s2, alpha=0.5, label='Population 2') \n",
    "plt.legend(loc='upper right') \n",
    "plt.show()\n",
    "\n",
    "mean_1 = np.mean(s1)\n",
    "mean_2 = np.mean(s2)\n",
    "sd_1 = np.std(s1)\n",
    "sd_2 = np.std(s2)\n",
    "var_1 = np.var(s1)\n",
    "var_2 = np.var(s2)\n",
    "\n",
    "headers = (\"Mean\",\"Standard Deviation\",\"Variance\")\n",
    "s1_vals = (round(mean_1,2),round(sd_1,2),round(var_1,2))\n",
    "s2_vals = (round(mean_2,2),round(sd_2,2),round(var_2,2))\n",
    "\n",
    "array = np.array([(s1_vals),(s2_vals)])\n",
    "df_20 = pd.DataFrame(array)\n",
    "df_20.columns = headers\n",
    "df_20.index=['Pop 1','Pop 2']\n",
    "print(df_20)\n",
    "\n",
    "statement = \"the difference between the sample means is {}\"\n",
    "answer = mean_1 - mean_2\n",
    "answer_20 = statement.format(round(answer,2))\n",
    "print(answer_20)"
   ]
  },
  {
   "cell_type": "code",
   "execution_count": 6,
   "metadata": {},
   "outputs": [
    {
     "name": "stdout",
     "output_type": "stream",
     "text": [
      "\n",
      "For a sample size of 20...\n",
      "\n",
      "the difference between the sample means is -2.5\n",
      "       Mean  Standard Deviation  Variance\n",
      "Pop 1  2.35                1.35      1.83\n",
      "Pop 2  4.85                1.53      2.33\n",
      "\n",
      "For a sample size of 100...\n",
      "\n",
      "the difference between the sample means is -2.88\n",
      "       Mean  Standard Deviation  Variance\n",
      "Pop 1  2.08                1.30      1.69\n",
      "Pop 2  4.96                1.47      2.16\n",
      "\n",
      "For a sample size of 1000...\n",
      "\n",
      "the difference between the sample means is -3.02\n",
      "       Mean  Standard Deviation  Variance\n",
      "Pop 1  1.98                1.30       1.7\n",
      "Pop 2  5.01                1.48       2.2\n"
     ]
    }
   ],
   "source": [
    "s_20 = '''\n",
    "For a sample size of 20...\n",
    "'''\n",
    "s_100 =  '''\n",
    "For a sample size of 100...\n",
    "'''\n",
    "s_1000 =  '''\n",
    "For a sample size of 1000...\n",
    "'''\n",
    "\n",
    "print(s_20)\n",
    "print(answer_20)\n",
    "print(df_20)\n",
    "print(s_100)\n",
    "print(answer_100)\n",
    "print(df_100)\n",
    "print(s_1000)\n",
    "print(answer_1000)\n",
    "print(df_1000)"
   ]
  },
  {
   "cell_type": "markdown",
   "metadata": {},
   "source": [
    "# Question 1\n",
    "\n",
    "The output above shows that the difference between the means decreased as sampling size increased which makes sense since increasing the sampling size gives a more complete picture of the full distribution being sampled from"
   ]
  },
  {
   "cell_type": "code",
   "execution_count": 7,
   "metadata": {},
   "outputs": [
    {
     "name": "stdout",
     "output_type": "stream",
     "text": [
      "Ttest_indResult(statistic=8.408584570457004, pvalue=8.341050221328829e-15)\n"
     ]
    }
   ],
   "source": [
    "# with p = 0.3\n",
    "pop1 = np.random.binomial(10, 0.3, 10000)\n",
    "pop2 = np.random.binomial(10,0.5, 10000) \n",
    "\n",
    "s1 = np.random.choice(pop1, 100, replace=True)\n",
    "s2 = np.random.choice(pop2, 100, replace=True)\n",
    "\n",
    "from scipy.stats import ttest_ind\n",
    "print(ttest_ind(s2, s1, equal_var=False))"
   ]
  },
  {
   "cell_type": "code",
   "execution_count": 8,
   "metadata": {},
   "outputs": [
    {
     "name": "stdout",
     "output_type": "stream",
     "text": [
      "Ttest_indResult(statistic=9.596183890424445, pvalue=3.778044322989038e-18)\n"
     ]
    }
   ],
   "source": [
    "# with p = 0.4\n",
    "pop1 = np.random.binomial(10, 0.3, 10000)\n",
    "pop2 = np.random.binomial(10,0.5, 10000) \n",
    "\n",
    "s1 = np.random.choice(pop1, 100, replace=True)\n",
    "s2 = np.random.choice(pop2, 100, replace=True)\n",
    "\n",
    "from scipy.stats import ttest_ind\n",
    "print(ttest_ind(s2, s1, equal_var=False))"
   ]
  },
  {
   "cell_type": "markdown",
   "metadata": {},
   "source": [
    "# Question 2\n",
    "\n",
    "the t value shrinks and the p-value gets larger since the samples are becoming more similar"
   ]
  },
  {
   "cell_type": "code",
   "execution_count": 9,
   "metadata": {},
   "outputs": [],
   "source": [
    "pop1 = np.random.gamma(10, 0.2, 10000)\n",
    "pop2 = np.random.gamma(10,0.5, 10000) "
   ]
  },
  {
   "cell_type": "code",
   "execution_count": 10,
   "metadata": {},
   "outputs": [
    {
     "data": {
      "image/png": "[encoded data removed]",
      "text/plain": [
       "<Figure size 432x288 with 1 Axes>"
      ]
     },
     "metadata": {
      "needs_background": "light"
     },
     "output_type": "display_data"
    },
    {
     "name": "stdout",
     "output_type": "stream",
     "text": [
      "       Mean  Standard Deviation  Variance\n",
      "Pop 1  2.04                0.63      0.40\n",
      "Pop 2  5.02                1.58      2.48\n",
      "the difference between the sample means is -2.98\n"
     ]
    }
   ],
   "source": [
    "s1 = np.random.choice(pop1,1000,replace=True)\n",
    "s2 = np.random.choice(pop2,1000,replace=True)\n",
    "\n",
    "plt.hist(s1, alpha=0.5, label='Population 1') \n",
    "plt.hist(s2, alpha=0.5, label='Population 2') \n",
    "plt.legend(loc='upper right') \n",
    "plt.show()\n",
    "\n",
    "mean_1 = np.mean(s1)\n",
    "mean_2 = np.mean(s2)\n",
    "sd_1 = np.std(s1)\n",
    "sd_2 = np.std(s2)\n",
    "var_1 = np.var(s1)\n",
    "var_2 = np.var(s2)\n",
    "\n",
    "headers = (\"Mean\",\"Standard Deviation\",\"Variance\")\n",
    "s1_vals = (round(mean_1,2),round(sd_1,2),round(var_1,2))\n",
    "s2_vals = (round(mean_2,2),round(sd_2,2),round(var_2,2))\n",
    "\n",
    "array = np.array([(s1_vals),(s2_vals)])\n",
    "df_1000 = pd.DataFrame(array)\n",
    "df_1000.columns = headers\n",
    "df_1000.index=['Pop 1','Pop 2']\n",
    "print(df_1000)\n",
    "\n",
    "statement = \"the difference between the sample means is {}\"\n",
    "answer = mean_1 - mean_2\n",
    "answer_1000 = statement.format(round(answer,2))\n",
    "print(answer_1000)"
   ]
  },
  {
   "cell_type": "markdown",
   "metadata": {},
   "source": [
    "# Question 3 \n",
    "\n",
    "Yes, the sample mean values still represent the data because the central limit theorum can be applied to any distribution, not just the binomial distribution"
   ]
  },
  {
   "cell_type": "code",
   "execution_count": null,
   "metadata": {},
   "outputs": [],
   "source": []
  },
  {
   "cell_type": "code",
   "execution_count": null,
   "metadata": {},
   "outputs": [],
   "source": []
  },
  {
   "cell_type": "code",
   "execution_count": null,
   "metadata": {},
   "outputs": [],
   "source": []
  }
 ],
 "metadata": {
  "kernelspec": {
   "display_name": "Python 3",
   "language": "python",
   "name": "python3"
  },
  "language_info": {
   "codemirror_mode": {
    "name": "ipython",
    "version": 3
   },
   "file_extension": ".py",
   "mimetype": "text/x-python",
   "name": "python",
   "nbconvert_exporter": "python",
   "pygments_lexer": "ipython3",
   "version": "3.7.2"
  }
 },
 "nbformat": 4,
 "nbformat_minor": 2
}
