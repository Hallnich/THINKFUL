{
 "cells": [
  {
   "cell_type": "code",
   "execution_count": 452,
   "metadata": {},
   "outputs": [],
   "source": [
    "import pandas as pd\n",
    "import seaborn as sns\n",
    "import numpy as np\n",
    "import matplotlib.pyplot as plt\n",
    "import timeit\n",
    "# Import sklearn and required packages\n",
    "import sklearn\n",
    "from sklearn import tree\n",
    "from sklearn import ensemble \n",
    "from sklearn import neighbors\n",
    "from sklearn import linear_model\n",
    "from sklearn.naive_bayes import BernoulliNB\n",
    "from sklearn.metrics import confusion_matrix\n",
    "from sklearn.model_selection import cross_val_score\n",
    "from sklearn.linear_model import LogisticRegression\n",
    "from sklearn.model_selection import train_test_split\n",
    "from sklearn.preprocessing import StandardScaler\n",
    "from sklearn.decomposition import PCA "
   ]
  },
  {
   "cell_type": "code",
   "execution_count": 453,
   "metadata": {},
   "outputs": [],
   "source": [
    "df = pd.read_csv('https://raw.githubusercontent.com/Thinkful-Ed/data-201-resources/master/customers_data.csv')"
   ]
  },
  {
   "cell_type": "code",
   "execution_count": 454,
   "metadata": {},
   "outputs": [
    {
     "name": "stdout",
     "output_type": "stream",
     "text": [
      "There are 20000 members of the loyalty program and 100000 non-members in this dataset\n"
     ]
    },
    {
     "data": {
      "image/png": "[encoded data removed]",
      "text/plain": [
       "<Figure size 432x288 with 1 Axes>"
      ]
     },
     "metadata": {},
     "output_type": "display_data"
    }
   ],
   "source": [
    "# Determine number of observations in each category\n",
    "loyal = len(df[df['loyalty']==True])\n",
    "not_loyal = len(df[df['loyalty']==False])\n",
    "print('There are {} members of the loyalty program and {} non-members in this dataset'.format(loyal,not_loyal))\n",
    "sizes = (loyal,not_loyal)\n",
    "plt.pie(sizes,labels=('Members','Non-Members'),colors=('darkgreen','darkblue'),autopct='%1.1f%%',shadow=True)\n",
    "plt.show()"
   ]
  },
  {
   "cell_type": "code",
   "execution_count": null,
   "metadata": {},
   "outputs": [],
   "source": [
    "# This shows that there members are a fairly small fraction of the overall dataset"
   ]
  },
  {
   "cell_type": "code",
   "execution_count": 455,
   "metadata": {},
   "outputs": [
    {
     "data": {
      "text/html": [
       "<div>\n",
       "<style scoped>\n",
       "    .dataframe tbody tr th:only-of-type {\n",
       "        vertical-align: middle;\n",
       "    }\n",
       "\n",
       "    .dataframe tbody tr th {\n",
       "        vertical-align: top;\n",
       "    }\n",
       "\n",
       "    .dataframe thead th {\n",
       "        text-align: right;\n",
       "    }\n",
       "</style>\n",
       "<table border=\"1\" class=\"dataframe\">\n",
       "  <thead>\n",
       "    <tr style=\"text-align: right;\">\n",
       "      <th></th>\n",
       "      <th>Unnamed: 0</th>\n",
       "      <th>purch_amt</th>\n",
       "      <th>gender</th>\n",
       "      <th>card_on_file</th>\n",
       "      <th>age</th>\n",
       "      <th>days_since_last_purch</th>\n",
       "      <th>loyalty</th>\n",
       "    </tr>\n",
       "  </thead>\n",
       "  <tbody>\n",
       "    <tr>\n",
       "      <th>0</th>\n",
       "      <td>0</td>\n",
       "      <td>19.58</td>\n",
       "      <td>male</td>\n",
       "      <td>no</td>\n",
       "      <td>31.0</td>\n",
       "      <td>35.0</td>\n",
       "      <td>False</td>\n",
       "    </tr>\n",
       "    <tr>\n",
       "      <th>1</th>\n",
       "      <td>1</td>\n",
       "      <td>65.16</td>\n",
       "      <td>male</td>\n",
       "      <td>yes</td>\n",
       "      <td>23.0</td>\n",
       "      <td>61.0</td>\n",
       "      <td>False</td>\n",
       "    </tr>\n",
       "    <tr>\n",
       "      <th>2</th>\n",
       "      <td>2</td>\n",
       "      <td>40.60</td>\n",
       "      <td>female</td>\n",
       "      <td>no</td>\n",
       "      <td>36.0</td>\n",
       "      <td>49.0</td>\n",
       "      <td>False</td>\n",
       "    </tr>\n",
       "    <tr>\n",
       "      <th>3</th>\n",
       "      <td>3</td>\n",
       "      <td>38.01</td>\n",
       "      <td>male</td>\n",
       "      <td>yes</td>\n",
       "      <td>47.0</td>\n",
       "      <td>57.0</td>\n",
       "      <td>False</td>\n",
       "    </tr>\n",
       "    <tr>\n",
       "      <th>4</th>\n",
       "      <td>4</td>\n",
       "      <td>22.32</td>\n",
       "      <td>female</td>\n",
       "      <td>yes</td>\n",
       "      <td>5.0</td>\n",
       "      <td>39.0</td>\n",
       "      <td>False</td>\n",
       "    </tr>\n",
       "  </tbody>\n",
       "</table>\n",
       "</div>"
      ],
      "text/plain": [
       "   Unnamed: 0  purch_amt  gender card_on_file   age  days_since_last_purch  \\\n",
       "0           0      19.58    male           no  31.0                   35.0   \n",
       "1           1      65.16    male          yes  23.0                   61.0   \n",
       "2           2      40.60  female           no  36.0                   49.0   \n",
       "3           3      38.01    male          yes  47.0                   57.0   \n",
       "4           4      22.32  female          yes   5.0                   39.0   \n",
       "\n",
       "   loyalty  \n",
       "0    False  \n",
       "1    False  \n",
       "2    False  \n",
       "3    False  \n",
       "4    False  "
      ]
     },
     "execution_count": 455,
     "metadata": {},
     "output_type": "execute_result"
    }
   ],
   "source": [
    "df.head(n=5)"
   ]
  },
  {
   "cell_type": "code",
   "execution_count": 456,
   "metadata": {},
   "outputs": [
    {
     "data": {
      "text/html": [
       "<div>\n",
       "<style scoped>\n",
       "    .dataframe tbody tr th:only-of-type {\n",
       "        vertical-align: middle;\n",
       "    }\n",
       "\n",
       "    .dataframe tbody tr th {\n",
       "        vertical-align: top;\n",
       "    }\n",
       "\n",
       "    .dataframe thead th {\n",
       "        text-align: right;\n",
       "    }\n",
       "</style>\n",
       "<table border=\"1\" class=\"dataframe\">\n",
       "  <thead>\n",
       "    <tr style=\"text-align: right;\">\n",
       "      <th></th>\n",
       "      <th>Unnamed: 0</th>\n",
       "      <th>purch_amt</th>\n",
       "      <th>age</th>\n",
       "      <th>days_since_last_purch</th>\n",
       "    </tr>\n",
       "  </thead>\n",
       "  <tbody>\n",
       "    <tr>\n",
       "      <th>count</th>\n",
       "      <td>120000.000000</td>\n",
       "      <td>120000.000000</td>\n",
       "      <td>120000.000000</td>\n",
       "      <td>120000.000000</td>\n",
       "    </tr>\n",
       "    <tr>\n",
       "      <th>mean</th>\n",
       "      <td>59999.500000</td>\n",
       "      <td>44.036234</td>\n",
       "      <td>25.803008</td>\n",
       "      <td>56.605908</td>\n",
       "    </tr>\n",
       "    <tr>\n",
       "      <th>std</th>\n",
       "      <td>34641.160489</td>\n",
       "      <td>20.473148</td>\n",
       "      <td>10.153072</td>\n",
       "      <td>16.422187</td>\n",
       "    </tr>\n",
       "    <tr>\n",
       "      <th>min</th>\n",
       "      <td>0.000000</td>\n",
       "      <td>-43.950000</td>\n",
       "      <td>-22.000000</td>\n",
       "      <td>-9.000000</td>\n",
       "    </tr>\n",
       "    <tr>\n",
       "      <th>25%</th>\n",
       "      <td>29999.750000</td>\n",
       "      <td>30.210000</td>\n",
       "      <td>19.000000</td>\n",
       "      <td>45.000000</td>\n",
       "    </tr>\n",
       "    <tr>\n",
       "      <th>50%</th>\n",
       "      <td>59999.500000</td>\n",
       "      <td>43.970000</td>\n",
       "      <td>26.000000</td>\n",
       "      <td>57.000000</td>\n",
       "    </tr>\n",
       "    <tr>\n",
       "      <th>75%</th>\n",
       "      <td>89999.250000</td>\n",
       "      <td>57.830000</td>\n",
       "      <td>33.000000</td>\n",
       "      <td>68.000000</td>\n",
       "    </tr>\n",
       "    <tr>\n",
       "      <th>max</th>\n",
       "      <td>119999.000000</td>\n",
       "      <td>142.200000</td>\n",
       "      <td>71.000000</td>\n",
       "      <td>125.000000</td>\n",
       "    </tr>\n",
       "  </tbody>\n",
       "</table>\n",
       "</div>"
      ],
      "text/plain": [
       "          Unnamed: 0      purch_amt            age  days_since_last_purch\n",
       "count  120000.000000  120000.000000  120000.000000          120000.000000\n",
       "mean    59999.500000      44.036234      25.803008              56.605908\n",
       "std     34641.160489      20.473148      10.153072              16.422187\n",
       "min         0.000000     -43.950000     -22.000000              -9.000000\n",
       "25%     29999.750000      30.210000      19.000000              45.000000\n",
       "50%     59999.500000      43.970000      26.000000              57.000000\n",
       "75%     89999.250000      57.830000      33.000000              68.000000\n",
       "max    119999.000000     142.200000      71.000000             125.000000"
      ]
     },
     "execution_count": 456,
     "metadata": {},
     "output_type": "execute_result"
    }
   ],
   "source": [
    "df.describe()"
   ]
  },
  {
   "cell_type": "code",
   "execution_count": 457,
   "metadata": {},
   "outputs": [],
   "source": [
    "# Make binary indicators for variables below\n",
    "gender = pd.get_dummies(df['gender'])\n",
    "card = pd.get_dummies(df['card_on_file'])\n",
    "# Collect binary indicators back into original dataframe\n",
    "df['Male'] = gender['male']\n",
    "df['Female'] = gender['female']\n",
    "df['Card_on_file'] = card['yes']\n",
    "df['No_Card'] = card['no']"
   ]
  },
  {
   "cell_type": "code",
   "execution_count": 458,
   "metadata": {},
   "outputs": [
    {
     "data": {
      "text/plain": [
       "<matplotlib.axes._subplots.AxesSubplot at 0x1068e170>"
      ]
     },
     "execution_count": 458,
     "metadata": {},
     "output_type": "execute_result"
    },
    {
     "data": {
      "image/png": "[encoded data removed]",
      "text/plain": [
       "<Figure size 432x288 with 2 Axes>"
      ]
     },
     "metadata": {
      "needs_background": "light"
     },
     "output_type": "display_data"
    }
   ],
   "source": [
    "sns.heatmap(df.corr())"
   ]
  },
  {
   "cell_type": "code",
   "execution_count": 459,
   "metadata": {},
   "outputs": [],
   "source": [
    "# Collect all features needed for modeling\n",
    "features = df[['purch_amt','Male','Female','Card_on_file','days_since_last_purch','age','No_Card','loyalty']]"
   ]
  },
  {
   "cell_type": "code",
   "execution_count": 460,
   "metadata": {},
   "outputs": [],
   "source": [
    "# Seperate into x and y variables\n",
    "X = features.drop(labels='loyalty',axis=1)\n",
    "Y = features['loyalty']\n",
    "\n",
    "# Split into test and training set\n",
    "x_train, x_test, y_train, y_test = train_test_split(X,Y,test_size=0.2)"
   ]
  },
  {
   "cell_type": "code",
   "execution_count": 461,
   "metadata": {},
   "outputs": [],
   "source": [
    "# Define function to test models\n",
    "\n",
    "# Create variables to store results in\n",
    "test_acc =  []\n",
    "cv_acc = []\n",
    "cv_sd = []\n",
    "runtime = []\n",
    "true = []\n",
    "\n",
    "def test_model(regression):\n",
    "    # Fit Regression\n",
    "    start = timeit.default_timer()\n",
    "    regression.fit(x_train,y_train)\n",
    "    stop = timeit.default_timer()\n",
    "    time = stop-start\n",
    "    runtime.append(time)\n",
    "    # Collect predictions and actual results in df \n",
    "    results = pd.DataFrame(regression.predict(x_test))\n",
    "    results.columns=['predicted']\n",
    "    results['actual'] = list(y_test)\n",
    "    correct = results[results['predicted']==results['actual']]\n",
    "    corr_t = correct[correct['actual']==True]\n",
    "    # Calculate accuracy and print\n",
    "    acc = len(correct) / len(results)\n",
    "    accuracy = round(acc*100,3)\n",
    "    print('Total Test Set Accuracy {}%'.format(accuracy))\n",
    "    print('{}% of True Observations Correctly Predicted'.format(round((len(corr_t)/loyal)*100),3))\n",
    "    true.append(round((len(corr_t)/loyal)*100,3))\n",
    "    test_acc.append(accuracy)\n",
    "    # Do five fold cross validation on model\n",
    "    cv = cross_val_score(regression,X,Y,cv=5)\n",
    "    print('''Five Fold Cross Validation Results''')\n",
    "    print(cv)\n",
    "    cv_acc.append(round(cv.mean()*100,2))\n",
    "    cv_sd.append(cv.std())\n",
    "    # Return confusion matrix\n",
    "    return pd.crosstab(results['actual'],results['predicted'])"
   ]
  },
  {
   "cell_type": "code",
   "execution_count": 462,
   "metadata": {},
   "outputs": [
    {
     "name": "stdout",
     "output_type": "stream",
     "text": [
      "Total Test Set Accuracy 83.525%\n",
      "0% of True Observations Correctly Predicted\n",
      "Five Fold Cross Validation Results\n",
      "[0.83358333 0.83333333 0.83329167 0.833375   0.833375  ]\n"
     ]
    },
    {
     "data": {
      "text/html": [
       "<div>\n",
       "<style scoped>\n",
       "    .dataframe tbody tr th:only-of-type {\n",
       "        vertical-align: middle;\n",
       "    }\n",
       "\n",
       "    .dataframe tbody tr th {\n",
       "        vertical-align: top;\n",
       "    }\n",
       "\n",
       "    .dataframe thead th {\n",
       "        text-align: right;\n",
       "    }\n",
       "</style>\n",
       "<table border=\"1\" class=\"dataframe\">\n",
       "  <thead>\n",
       "    <tr style=\"text-align: right;\">\n",
       "      <th>predicted</th>\n",
       "      <th>False</th>\n",
       "      <th>True</th>\n",
       "    </tr>\n",
       "    <tr>\n",
       "      <th>actual</th>\n",
       "      <th></th>\n",
       "      <th></th>\n",
       "    </tr>\n",
       "  </thead>\n",
       "  <tbody>\n",
       "    <tr>\n",
       "      <th>False</th>\n",
       "      <td>20043</td>\n",
       "      <td>2</td>\n",
       "    </tr>\n",
       "    <tr>\n",
       "      <th>True</th>\n",
       "      <td>3952</td>\n",
       "      <td>3</td>\n",
       "    </tr>\n",
       "  </tbody>\n",
       "</table>\n",
       "</div>"
      ],
      "text/plain": [
       "predicted  False  True \n",
       "actual                 \n",
       "False      20043      2\n",
       "True        3952      3"
      ]
     },
     "execution_count": 462,
     "metadata": {},
     "output_type": "execute_result"
    }
   ],
   "source": [
    "# NAIVE BAYES MODEL\n",
    "bnb = BernoulliNB()\n",
    "test_model(bnb)"
   ]
  },
  {
   "cell_type": "code",
   "execution_count": 463,
   "metadata": {},
   "outputs": [
    {
     "name": "stdout",
     "output_type": "stream",
     "text": [
      "Total Test Set Accuracy 86.804%\n",
      "8% of True Observations Correctly Predicted\n",
      "Five Fold Cross Validation Results\n",
      "[0.86825    0.86745833 0.86720833 0.87033333 0.87095833]\n"
     ]
    },
    {
     "data": {
      "text/html": [
       "<div>\n",
       "<style scoped>\n",
       "    .dataframe tbody tr th:only-of-type {\n",
       "        vertical-align: middle;\n",
       "    }\n",
       "\n",
       "    .dataframe tbody tr th {\n",
       "        vertical-align: top;\n",
       "    }\n",
       "\n",
       "    .dataframe thead th {\n",
       "        text-align: right;\n",
       "    }\n",
       "</style>\n",
       "<table border=\"1\" class=\"dataframe\">\n",
       "  <thead>\n",
       "    <tr style=\"text-align: right;\">\n",
       "      <th>predicted</th>\n",
       "      <th>False</th>\n",
       "      <th>True</th>\n",
       "    </tr>\n",
       "    <tr>\n",
       "      <th>actual</th>\n",
       "      <th></th>\n",
       "      <th></th>\n",
       "    </tr>\n",
       "  </thead>\n",
       "  <tbody>\n",
       "    <tr>\n",
       "      <th>False</th>\n",
       "      <td>19199</td>\n",
       "      <td>846</td>\n",
       "    </tr>\n",
       "    <tr>\n",
       "      <th>True</th>\n",
       "      <td>2321</td>\n",
       "      <td>1634</td>\n",
       "    </tr>\n",
       "  </tbody>\n",
       "</table>\n",
       "</div>"
      ],
      "text/plain": [
       "predicted  False  True \n",
       "actual                 \n",
       "False      19199    846\n",
       "True        2321   1634"
      ]
     },
     "execution_count": 463,
     "metadata": {},
     "output_type": "execute_result"
    }
   ],
   "source": [
    "# LOGISTIC REGRESSION\n",
    "log = linear_model.LogisticRegression(solver='lbfgs')\n",
    "test_model(log)"
   ]
  },
  {
   "cell_type": "code",
   "execution_count": 464,
   "metadata": {},
   "outputs": [
    {
     "name": "stdout",
     "output_type": "stream",
     "text": [
      "Total Test Set Accuracy 84.283%\n",
      "5% of True Observations Correctly Predicted\n",
      "Five Fold Cross Validation Results\n",
      "[0.8455     0.84358333 0.8425     0.84475    0.84533333]\n"
     ]
    },
    {
     "data": {
      "text/html": [
       "<div>\n",
       "<style scoped>\n",
       "    .dataframe tbody tr th:only-of-type {\n",
       "        vertical-align: middle;\n",
       "    }\n",
       "\n",
       "    .dataframe tbody tr th {\n",
       "        vertical-align: top;\n",
       "    }\n",
       "\n",
       "    .dataframe thead th {\n",
       "        text-align: right;\n",
       "    }\n",
       "</style>\n",
       "<table border=\"1\" class=\"dataframe\">\n",
       "  <thead>\n",
       "    <tr style=\"text-align: right;\">\n",
       "      <th>predicted</th>\n",
       "      <th>False</th>\n",
       "      <th>True</th>\n",
       "    </tr>\n",
       "    <tr>\n",
       "      <th>actual</th>\n",
       "      <th></th>\n",
       "      <th></th>\n",
       "    </tr>\n",
       "  </thead>\n",
       "  <tbody>\n",
       "    <tr>\n",
       "      <th>False</th>\n",
       "      <td>19254</td>\n",
       "      <td>791</td>\n",
       "    </tr>\n",
       "    <tr>\n",
       "      <th>True</th>\n",
       "      <td>2981</td>\n",
       "      <td>974</td>\n",
       "    </tr>\n",
       "  </tbody>\n",
       "</table>\n",
       "</div>"
      ],
      "text/plain": [
       "predicted  False  True \n",
       "actual                 \n",
       "False      19254    791\n",
       "True        2981    974"
      ]
     },
     "execution_count": 464,
     "metadata": {},
     "output_type": "execute_result"
    }
   ],
   "source": [
    "# KNN CLASSIFIER\n",
    "knn_c = neighbors.KNeighborsClassifier(n_neighbors=2)\n",
    "test_model(knn_c)"
   ]
  },
  {
   "cell_type": "code",
   "execution_count": 465,
   "metadata": {},
   "outputs": [
    {
     "name": "stdout",
     "output_type": "stream",
     "text": [
      "Total Test Set Accuracy 86.117%\n",
      "7% of True Observations Correctly Predicted\n",
      "Five Fold Cross Validation Results\n",
      "[0.85933333 0.86016667 0.85954167 0.86245833 0.86420833]\n"
     ]
    },
    {
     "data": {
      "text/html": [
       "<div>\n",
       "<style scoped>\n",
       "    .dataframe tbody tr th:only-of-type {\n",
       "        vertical-align: middle;\n",
       "    }\n",
       "\n",
       "    .dataframe tbody tr th {\n",
       "        vertical-align: top;\n",
       "    }\n",
       "\n",
       "    .dataframe thead th {\n",
       "        text-align: right;\n",
       "    }\n",
       "</style>\n",
       "<table border=\"1\" class=\"dataframe\">\n",
       "  <thead>\n",
       "    <tr style=\"text-align: right;\">\n",
       "      <th>predicted</th>\n",
       "      <th>False</th>\n",
       "      <th>True</th>\n",
       "    </tr>\n",
       "    <tr>\n",
       "      <th>actual</th>\n",
       "      <th></th>\n",
       "      <th></th>\n",
       "    </tr>\n",
       "  </thead>\n",
       "  <tbody>\n",
       "    <tr>\n",
       "      <th>False</th>\n",
       "      <td>19330</td>\n",
       "      <td>715</td>\n",
       "    </tr>\n",
       "    <tr>\n",
       "      <th>True</th>\n",
       "      <td>2617</td>\n",
       "      <td>1338</td>\n",
       "    </tr>\n",
       "  </tbody>\n",
       "</table>\n",
       "</div>"
      ],
      "text/plain": [
       "predicted  False  True \n",
       "actual                 \n",
       "False      19330    715\n",
       "True        2617   1338"
      ]
     },
     "execution_count": 465,
     "metadata": {},
     "output_type": "execute_result"
    }
   ],
   "source": [
    "# DECISION TREE CLASSIFIER \n",
    "dt = tree.DecisionTreeClassifier(criterion='entropy',\n",
    "                                max_depth=5)\n",
    "test_model(dt)"
   ]
  },
  {
   "cell_type": "code",
   "execution_count": 466,
   "metadata": {},
   "outputs": [
    {
     "name": "stdout",
     "output_type": "stream",
     "text": [
      "Total Test Set Accuracy 84.192%\n",
      "6% of True Observations Correctly Predicted\n",
      "Five Fold Cross Validation Results\n",
      "[0.84241667 0.84208333 0.84229167 0.8465     0.84191667]\n"
     ]
    },
    {
     "data": {
      "text/html": [
       "<div>\n",
       "<style scoped>\n",
       "    .dataframe tbody tr th:only-of-type {\n",
       "        vertical-align: middle;\n",
       "    }\n",
       "\n",
       "    .dataframe tbody tr th {\n",
       "        vertical-align: top;\n",
       "    }\n",
       "\n",
       "    .dataframe thead th {\n",
       "        text-align: right;\n",
       "    }\n",
       "</style>\n",
       "<table border=\"1\" class=\"dataframe\">\n",
       "  <thead>\n",
       "    <tr style=\"text-align: right;\">\n",
       "      <th>predicted</th>\n",
       "      <th>False</th>\n",
       "      <th>True</th>\n",
       "    </tr>\n",
       "    <tr>\n",
       "      <th>actual</th>\n",
       "      <th></th>\n",
       "      <th></th>\n",
       "    </tr>\n",
       "  </thead>\n",
       "  <tbody>\n",
       "    <tr>\n",
       "      <th>False</th>\n",
       "      <td>18915</td>\n",
       "      <td>1130</td>\n",
       "    </tr>\n",
       "    <tr>\n",
       "      <th>True</th>\n",
       "      <td>2664</td>\n",
       "      <td>1291</td>\n",
       "    </tr>\n",
       "  </tbody>\n",
       "</table>\n",
       "</div>"
      ],
      "text/plain": [
       "predicted  False  True \n",
       "actual                 \n",
       "False      18915   1130\n",
       "True        2664   1291"
      ]
     },
     "execution_count": 466,
     "metadata": {},
     "output_type": "execute_result"
    }
   ],
   "source": [
    "# RANDOM FOREST CLASSIFIER \n",
    "rfc = ensemble.RandomForestClassifier(n_estimators=4)\n",
    "test_model(rfc)"
   ]
  },
  {
   "cell_type": "code",
   "execution_count": 467,
   "metadata": {},
   "outputs": [
    {
     "data": {
      "text/html": [
       "<div>\n",
       "<style scoped>\n",
       "    .dataframe tbody tr th:only-of-type {\n",
       "        vertical-align: middle;\n",
       "    }\n",
       "\n",
       "    .dataframe tbody tr th {\n",
       "        vertical-align: top;\n",
       "    }\n",
       "\n",
       "    .dataframe thead th {\n",
       "        text-align: right;\n",
       "    }\n",
       "</style>\n",
       "<table border=\"1\" class=\"dataframe\">\n",
       "  <thead>\n",
       "    <tr style=\"text-align: right;\">\n",
       "      <th></th>\n",
       "      <th>Test Set Accuracy (%)</th>\n",
       "      <th>Avg 5 Fold Cross Validation Accuracy (%)</th>\n",
       "      <th>SD Cross Validation Results</th>\n",
       "      <th>Runtime</th>\n",
       "      <th>Correctly Predicted True (%)</th>\n",
       "    </tr>\n",
       "  </thead>\n",
       "  <tbody>\n",
       "    <tr>\n",
       "      <th>Naive Bayes</th>\n",
       "      <td>83.525</td>\n",
       "      <td>83.34</td>\n",
       "      <td>0.000101</td>\n",
       "      <td>0.046257</td>\n",
       "      <td>0.015</td>\n",
       "    </tr>\n",
       "    <tr>\n",
       "      <th>Logistic Regression</th>\n",
       "      <td>86.804</td>\n",
       "      <td>86.88</td>\n",
       "      <td>0.001526</td>\n",
       "      <td>0.752356</td>\n",
       "      <td>8.170</td>\n",
       "    </tr>\n",
       "    <tr>\n",
       "      <th>KNN Classifier</th>\n",
       "      <td>84.283</td>\n",
       "      <td>84.43</td>\n",
       "      <td>0.001137</td>\n",
       "      <td>0.265596</td>\n",
       "      <td>4.870</td>\n",
       "    </tr>\n",
       "    <tr>\n",
       "      <th>Decision Tree Classifier</th>\n",
       "      <td>86.117</td>\n",
       "      <td>86.11</td>\n",
       "      <td>0.001893</td>\n",
       "      <td>0.284819</td>\n",
       "      <td>6.690</td>\n",
       "    </tr>\n",
       "    <tr>\n",
       "      <th>Random Forest Classifier</th>\n",
       "      <td>84.192</td>\n",
       "      <td>84.30</td>\n",
       "      <td>0.001738</td>\n",
       "      <td>0.703784</td>\n",
       "      <td>6.455</td>\n",
       "    </tr>\n",
       "  </tbody>\n",
       "</table>\n",
       "</div>"
      ],
      "text/plain": [
       "                          Test Set Accuracy (%)  \\\n",
       "Naive Bayes                              83.525   \n",
       "Logistic Regression                      86.804   \n",
       "KNN Classifier                           84.283   \n",
       "Decision Tree Classifier                 86.117   \n",
       "Random Forest Classifier                 84.192   \n",
       "\n",
       "                          Avg 5 Fold Cross Validation Accuracy (%)  \\\n",
       "Naive Bayes                                                  83.34   \n",
       "Logistic Regression                                          86.88   \n",
       "KNN Classifier                                               84.43   \n",
       "Decision Tree Classifier                                     86.11   \n",
       "Random Forest Classifier                                     84.30   \n",
       "\n",
       "                          SD Cross Validation Results   Runtime  \\\n",
       "Naive Bayes                                  0.000101  0.046257   \n",
       "Logistic Regression                          0.001526  0.752356   \n",
       "KNN Classifier                               0.001137  0.265596   \n",
       "Decision Tree Classifier                     0.001893  0.284819   \n",
       "Random Forest Classifier                     0.001738  0.703784   \n",
       "\n",
       "                          Correctly Predicted True (%)  \n",
       "Naive Bayes                                      0.015  \n",
       "Logistic Regression                              8.170  \n",
       "KNN Classifier                                   4.870  \n",
       "Decision Tree Classifier                         6.690  \n",
       "Random Forest Classifier                         6.455  "
      ]
     },
     "execution_count": 467,
     "metadata": {},
     "output_type": "execute_result"
    }
   ],
   "source": [
    "# Collect results into table and print\n",
    "models = ['Naive Bayes','Logistic Regression', 'KNN Classifier',\n",
    "          'Decision Tree Classifier','Random Forest Classifier']\n",
    "results = pd.DataFrame(index=models)\n",
    "results['Test Set Accuracy (%)'] = test_acc\n",
    "results['Avg 5 Fold Cross Validation Accuracy (%)'] = cv_acc\n",
    "results['SD Cross Validation Results'] = cv_sd\n",
    "results['Runtime'] = runtime\n",
    "results['Correctly Predicted True (%)'] = true\n",
    "results"
   ]
  },
  {
   "cell_type": "code",
   "execution_count": 468,
   "metadata": {},
   "outputs": [],
   "source": [
    "# Model performance is pretty bad and test set and 5 fold accuracies not really\n",
    "# Representative of model performance due to imbalance of dataset\n",
    "# Next I will see if a PCA can improve the results of these models"
   ]
  },
  {
   "cell_type": "code",
   "execution_count": 469,
   "metadata": {},
   "outputs": [
    {
     "name": "stderr",
     "output_type": "stream",
     "text": [
      "c:\\users\\halln\\appdata\\local\\programs\\python\\python37-32\\lib\\site-packages\\sklearn\\preprocessing\\data.py:625: DataConversionWarning: Data with input dtype uint8, float64 were all converted to float64 by StandardScaler.\n",
      "  return self.partial_fit(X, y)\n",
      "c:\\users\\halln\\appdata\\local\\programs\\python\\python37-32\\lib\\site-packages\\sklearn\\base.py:462: DataConversionWarning: Data with input dtype uint8, float64 were all converted to float64 by StandardScaler.\n",
      "  return self.fit(X, **fit_params).transform(X)\n"
     ]
    },
    {
     "data": {
      "text/plain": [
       "Text(0, 0.5, 'Eigenvalues')"
      ]
     },
     "execution_count": 469,
     "metadata": {},
     "output_type": "execute_result"
    },
    {
     "data": {
      "image/png": "[encoded data removed]",
      "text/plain": [
       "<Figure size 432x288 with 1 Axes>"
      ]
     },
     "metadata": {
      "needs_background": "light"
     },
     "output_type": "display_data"
    }
   ],
   "source": [
    "# Generate data for scree plot\n",
    "scree_data = StandardScaler().fit_transform(X)\n",
    "Xt = scree_data.T\n",
    "Cx = np.cov(Xt)\n",
    "eig_val_cov,eig_vec_cov = np.linalg.eig(Cx)\n",
    "\n",
    "# Display Scree Plot\n",
    "plt.plot(eig_val_cov)\n",
    "plt.title(\"Scree Plot\",size=(20))\n",
    "plt.xlabel(\"Principal Component Number\")\n",
    "plt.ylabel(\"Eigenvalues\")"
   ]
  },
  {
   "cell_type": "code",
   "execution_count": 470,
   "metadata": {},
   "outputs": [],
   "source": [
    "# Do PCA to compress data into 5 features\n",
    "sklearn_pca = PCA(n_components=5)\n",
    "x_pca = sklearn_pca.fit_transform(X)"
   ]
  },
  {
   "cell_type": "code",
   "execution_count": 471,
   "metadata": {},
   "outputs": [],
   "source": [
    "# Seperate into x and y variables\n",
    "X = x_pca\n",
    "Y = features['loyalty']\n",
    "\n",
    "# Split into test and training set\n",
    "x_train, x_test, y_train, y_test = train_test_split(X,Y,test_size=0.2)\n",
    "\n",
    "# Create variables to store results in\n",
    "test_acc =  []\n",
    "cv_acc = []\n",
    "cv_sd = []\n",
    "runtime = []\n",
    "true = []\n",
    "\n",
    "def test_model(regression):\n",
    "    # Fit Regression\n",
    "    start = timeit.default_timer()\n",
    "    regression.fit(x_train,y_train)\n",
    "    stop = timeit.default_timer()\n",
    "    time = stop-start\n",
    "    runtime.append(time)\n",
    "    # Collect predictions and actual results in df \n",
    "    results = pd.DataFrame(regression.predict(x_test))\n",
    "    results.columns=['predicted']\n",
    "    results['actual'] = list(y_test)\n",
    "    correct = results[results['predicted']==results['actual']]\n",
    "    corr_t = correct[correct['actual']==True]\n",
    "    # Calculate accuracy and print\n",
    "    acc = len(correct) / len(results)\n",
    "    accuracy = round(acc*100,3)\n",
    "    print('Total Test Set Accuracy {}%'.format(accuracy))\n",
    "    print('{}% of True Observations Correctly Predicted'.format(round((len(corr_t)/loyal)*100),3))\n",
    "    true.append(round((len(corr_t)/loyal)*100,3))\n",
    "    test_acc.append(accuracy)\n",
    "    # Do five fold cross validation on model\n",
    "    cv = cross_val_score(regression,X,Y,cv=5)\n",
    "    print('''Five Fold Cross Validation Results''')\n",
    "    print(cv)\n",
    "    cv_acc.append(round(cv.mean()*100,2))\n",
    "    cv_sd.append(cv.std())\n",
    "    # Return confusion matrix\n",
    "    return pd.crosstab(results['actual'],results['predicted'])"
   ]
  },
  {
   "cell_type": "code",
   "execution_count": 472,
   "metadata": {},
   "outputs": [
    {
     "name": "stdout",
     "output_type": "stream",
     "text": [
      "Total Test Set Accuracy 83.708%\n",
      "5% of True Observations Correctly Predicted\n",
      "Five Fold Cross Validation Results\n",
      "[0.83833333 0.83545833 0.83395833 0.83658333 0.83416667]\n"
     ]
    },
    {
     "data": {
      "text/html": [
       "<div>\n",
       "<style scoped>\n",
       "    .dataframe tbody tr th:only-of-type {\n",
       "        vertical-align: middle;\n",
       "    }\n",
       "\n",
       "    .dataframe tbody tr th {\n",
       "        vertical-align: top;\n",
       "    }\n",
       "\n",
       "    .dataframe thead th {\n",
       "        text-align: right;\n",
       "    }\n",
       "</style>\n",
       "<table border=\"1\" class=\"dataframe\">\n",
       "  <thead>\n",
       "    <tr style=\"text-align: right;\">\n",
       "      <th>predicted</th>\n",
       "      <th>False</th>\n",
       "      <th>True</th>\n",
       "    </tr>\n",
       "    <tr>\n",
       "      <th>actual</th>\n",
       "      <th></th>\n",
       "      <th></th>\n",
       "    </tr>\n",
       "  </thead>\n",
       "  <tbody>\n",
       "    <tr>\n",
       "      <th>False</th>\n",
       "      <td>19033</td>\n",
       "      <td>1100</td>\n",
       "    </tr>\n",
       "    <tr>\n",
       "      <th>True</th>\n",
       "      <td>2810</td>\n",
       "      <td>1057</td>\n",
       "    </tr>\n",
       "  </tbody>\n",
       "</table>\n",
       "</div>"
      ],
      "text/plain": [
       "predicted  False  True \n",
       "actual                 \n",
       "False      19033   1100\n",
       "True        2810   1057"
      ]
     },
     "execution_count": 472,
     "metadata": {},
     "output_type": "execute_result"
    }
   ],
   "source": [
    "# NAIVE BAYES\n",
    "bnb = BernoulliNB()\n",
    "test_model(bnb)"
   ]
  },
  {
   "cell_type": "code",
   "execution_count": 473,
   "metadata": {},
   "outputs": [
    {
     "name": "stdout",
     "output_type": "stream",
     "text": [
      "Total Test Set Accuracy 87.221%\n",
      "8% of True Observations Correctly Predicted\n",
      "Five Fold Cross Validation Results\n",
      "[0.86825    0.86745833 0.86720833 0.870375   0.87095833]\n"
     ]
    },
    {
     "data": {
      "text/html": [
       "<div>\n",
       "<style scoped>\n",
       "    .dataframe tbody tr th:only-of-type {\n",
       "        vertical-align: middle;\n",
       "    }\n",
       "\n",
       "    .dataframe tbody tr th {\n",
       "        vertical-align: top;\n",
       "    }\n",
       "\n",
       "    .dataframe thead th {\n",
       "        text-align: right;\n",
       "    }\n",
       "</style>\n",
       "<table border=\"1\" class=\"dataframe\">\n",
       "  <thead>\n",
       "    <tr style=\"text-align: right;\">\n",
       "      <th>predicted</th>\n",
       "      <th>False</th>\n",
       "      <th>True</th>\n",
       "    </tr>\n",
       "    <tr>\n",
       "      <th>actual</th>\n",
       "      <th></th>\n",
       "      <th></th>\n",
       "    </tr>\n",
       "  </thead>\n",
       "  <tbody>\n",
       "    <tr>\n",
       "      <th>False</th>\n",
       "      <td>19323</td>\n",
       "      <td>810</td>\n",
       "    </tr>\n",
       "    <tr>\n",
       "      <th>True</th>\n",
       "      <td>2257</td>\n",
       "      <td>1610</td>\n",
       "    </tr>\n",
       "  </tbody>\n",
       "</table>\n",
       "</div>"
      ],
      "text/plain": [
       "predicted  False  True \n",
       "actual                 \n",
       "False      19323    810\n",
       "True        2257   1610"
      ]
     },
     "execution_count": 473,
     "metadata": {},
     "output_type": "execute_result"
    }
   ],
   "source": [
    "# LOGISTIC REGRESSION\n",
    "log = linear_model.LogisticRegression(solver='lbfgs')\n",
    "test_model(log)"
   ]
  },
  {
   "cell_type": "code",
   "execution_count": 474,
   "metadata": {},
   "outputs": [
    {
     "name": "stdout",
     "output_type": "stream",
     "text": [
      "Total Test Set Accuracy 84.796%\n",
      "5% of True Observations Correctly Predicted\n",
      "Five Fold Cross Validation Results\n",
      "[0.84558333 0.843625   0.84245833 0.84479167 0.84516667]\n"
     ]
    },
    {
     "data": {
      "text/html": [
       "<div>\n",
       "<style scoped>\n",
       "    .dataframe tbody tr th:only-of-type {\n",
       "        vertical-align: middle;\n",
       "    }\n",
       "\n",
       "    .dataframe tbody tr th {\n",
       "        vertical-align: top;\n",
       "    }\n",
       "\n",
       "    .dataframe thead th {\n",
       "        text-align: right;\n",
       "    }\n",
       "</style>\n",
       "<table border=\"1\" class=\"dataframe\">\n",
       "  <thead>\n",
       "    <tr style=\"text-align: right;\">\n",
       "      <th>predicted</th>\n",
       "      <th>False</th>\n",
       "      <th>True</th>\n",
       "    </tr>\n",
       "    <tr>\n",
       "      <th>actual</th>\n",
       "      <th></th>\n",
       "      <th></th>\n",
       "    </tr>\n",
       "  </thead>\n",
       "  <tbody>\n",
       "    <tr>\n",
       "      <th>False</th>\n",
       "      <td>19401</td>\n",
       "      <td>732</td>\n",
       "    </tr>\n",
       "    <tr>\n",
       "      <th>True</th>\n",
       "      <td>2917</td>\n",
       "      <td>950</td>\n",
       "    </tr>\n",
       "  </tbody>\n",
       "</table>\n",
       "</div>"
      ],
      "text/plain": [
       "predicted  False  True \n",
       "actual                 \n",
       "False      19401    732\n",
       "True        2917    950"
      ]
     },
     "execution_count": 474,
     "metadata": {},
     "output_type": "execute_result"
    }
   ],
   "source": [
    "# KNN CLASSIFIER\n",
    "knn_c = neighbors.KNeighborsClassifier(n_neighbors=2)\n",
    "test_model(knn_c)"
   ]
  },
  {
   "cell_type": "code",
   "execution_count": 475,
   "metadata": {},
   "outputs": [
    {
     "name": "stdout",
     "output_type": "stream",
     "text": [
      "Total Test Set Accuracy 86.725%\n",
      "7% of True Observations Correctly Predicted\n",
      "Five Fold Cross Validation Results\n",
      "[0.861125   0.85858333 0.86075    0.86270833 0.86333333]\n"
     ]
    },
    {
     "data": {
      "text/html": [
       "<div>\n",
       "<style scoped>\n",
       "    .dataframe tbody tr th:only-of-type {\n",
       "        vertical-align: middle;\n",
       "    }\n",
       "\n",
       "    .dataframe tbody tr th {\n",
       "        vertical-align: top;\n",
       "    }\n",
       "\n",
       "    .dataframe thead th {\n",
       "        text-align: right;\n",
       "    }\n",
       "</style>\n",
       "<table border=\"1\" class=\"dataframe\">\n",
       "  <thead>\n",
       "    <tr style=\"text-align: right;\">\n",
       "      <th>predicted</th>\n",
       "      <th>False</th>\n",
       "      <th>True</th>\n",
       "    </tr>\n",
       "    <tr>\n",
       "      <th>actual</th>\n",
       "      <th></th>\n",
       "      <th></th>\n",
       "    </tr>\n",
       "  </thead>\n",
       "  <tbody>\n",
       "    <tr>\n",
       "      <th>False</th>\n",
       "      <td>19412</td>\n",
       "      <td>721</td>\n",
       "    </tr>\n",
       "    <tr>\n",
       "      <th>True</th>\n",
       "      <td>2465</td>\n",
       "      <td>1402</td>\n",
       "    </tr>\n",
       "  </tbody>\n",
       "</table>\n",
       "</div>"
      ],
      "text/plain": [
       "predicted  False  True \n",
       "actual                 \n",
       "False      19412    721\n",
       "True        2465   1402"
      ]
     },
     "execution_count": 475,
     "metadata": {},
     "output_type": "execute_result"
    }
   ],
   "source": [
    "# DECISION TREE CLASSIFIER \n",
    "dt = tree.DecisionTreeClassifier(criterion='entropy',\n",
    "                                max_depth=5)\n",
    "test_model(dt)"
   ]
  },
  {
   "cell_type": "code",
   "execution_count": 476,
   "metadata": {},
   "outputs": [
    {
     "name": "stdout",
     "output_type": "stream",
     "text": [
      "Total Test Set Accuracy 84.721%\n",
      "6% of True Observations Correctly Predicted\n",
      "Five Fold Cross Validation Results\n",
      "[0.846      0.842      0.84541667 0.84716667 0.844125  ]\n"
     ]
    },
    {
     "data": {
      "text/html": [
       "<div>\n",
       "<style scoped>\n",
       "    .dataframe tbody tr th:only-of-type {\n",
       "        vertical-align: middle;\n",
       "    }\n",
       "\n",
       "    .dataframe tbody tr th {\n",
       "        vertical-align: top;\n",
       "    }\n",
       "\n",
       "    .dataframe thead th {\n",
       "        text-align: right;\n",
       "    }\n",
       "</style>\n",
       "<table border=\"1\" class=\"dataframe\">\n",
       "  <thead>\n",
       "    <tr style=\"text-align: right;\">\n",
       "      <th>predicted</th>\n",
       "      <th>False</th>\n",
       "      <th>True</th>\n",
       "    </tr>\n",
       "    <tr>\n",
       "      <th>actual</th>\n",
       "      <th></th>\n",
       "      <th></th>\n",
       "    </tr>\n",
       "  </thead>\n",
       "  <tbody>\n",
       "    <tr>\n",
       "      <th>False</th>\n",
       "      <td>19064</td>\n",
       "      <td>1069</td>\n",
       "    </tr>\n",
       "    <tr>\n",
       "      <th>True</th>\n",
       "      <td>2598</td>\n",
       "      <td>1269</td>\n",
       "    </tr>\n",
       "  </tbody>\n",
       "</table>\n",
       "</div>"
      ],
      "text/plain": [
       "predicted  False  True \n",
       "actual                 \n",
       "False      19064   1069\n",
       "True        2598   1269"
      ]
     },
     "execution_count": 476,
     "metadata": {},
     "output_type": "execute_result"
    }
   ],
   "source": [
    "# RANDOM FOREST CLASSIFIER \n",
    "rfc = ensemble.RandomForestClassifier(n_estimators=4)\n",
    "test_model(rfc)"
   ]
  },
  {
   "cell_type": "code",
   "execution_count": 477,
   "metadata": {},
   "outputs": [
    {
     "data": {
      "text/html": [
       "<div>\n",
       "<style scoped>\n",
       "    .dataframe tbody tr th:only-of-type {\n",
       "        vertical-align: middle;\n",
       "    }\n",
       "\n",
       "    .dataframe tbody tr th {\n",
       "        vertical-align: top;\n",
       "    }\n",
       "\n",
       "    .dataframe thead th {\n",
       "        text-align: right;\n",
       "    }\n",
       "</style>\n",
       "<table border=\"1\" class=\"dataframe\">\n",
       "  <thead>\n",
       "    <tr style=\"text-align: right;\">\n",
       "      <th></th>\n",
       "      <th>Test Set Accuracy (%)</th>\n",
       "      <th>Avg 5 Fold Cross Validation Accuracy (%)</th>\n",
       "      <th>SD Cross Validation Results</th>\n",
       "      <th>Runtime (seconds)</th>\n",
       "      <th>Correctly Predicted True (%)</th>\n",
       "    </tr>\n",
       "  </thead>\n",
       "  <tbody>\n",
       "    <tr>\n",
       "      <th>Naive Bayes</th>\n",
       "      <td>83.708</td>\n",
       "      <td>83.57</td>\n",
       "      <td>0.001622</td>\n",
       "      <td>0.047037</td>\n",
       "      <td>5.285</td>\n",
       "    </tr>\n",
       "    <tr>\n",
       "      <th>Logistic Regression</th>\n",
       "      <td>87.221</td>\n",
       "      <td>86.88</td>\n",
       "      <td>0.001534</td>\n",
       "      <td>0.486820</td>\n",
       "      <td>8.050</td>\n",
       "    </tr>\n",
       "    <tr>\n",
       "      <th>KNN Classifier</th>\n",
       "      <td>84.796</td>\n",
       "      <td>84.43</td>\n",
       "      <td>0.001139</td>\n",
       "      <td>0.160302</td>\n",
       "      <td>4.750</td>\n",
       "    </tr>\n",
       "    <tr>\n",
       "      <th>Decision Tree Classifier</th>\n",
       "      <td>86.725</td>\n",
       "      <td>86.13</td>\n",
       "      <td>0.001663</td>\n",
       "      <td>1.252086</td>\n",
       "      <td>7.010</td>\n",
       "    </tr>\n",
       "    <tr>\n",
       "      <th>Random Forest Classifier</th>\n",
       "      <td>84.721</td>\n",
       "      <td>84.49</td>\n",
       "      <td>0.001767</td>\n",
       "      <td>2.180807</td>\n",
       "      <td>6.345</td>\n",
       "    </tr>\n",
       "  </tbody>\n",
       "</table>\n",
       "</div>"
      ],
      "text/plain": [
       "                          Test Set Accuracy (%)  \\\n",
       "Naive Bayes                              83.708   \n",
       "Logistic Regression                      87.221   \n",
       "KNN Classifier                           84.796   \n",
       "Decision Tree Classifier                 86.725   \n",
       "Random Forest Classifier                 84.721   \n",
       "\n",
       "                          Avg 5 Fold Cross Validation Accuracy (%)  \\\n",
       "Naive Bayes                                                  83.57   \n",
       "Logistic Regression                                          86.88   \n",
       "KNN Classifier                                               84.43   \n",
       "Decision Tree Classifier                                     86.13   \n",
       "Random Forest Classifier                                     84.49   \n",
       "\n",
       "                          SD Cross Validation Results  Runtime (seconds)  \\\n",
       "Naive Bayes                                  0.001622           0.047037   \n",
       "Logistic Regression                          0.001534           0.486820   \n",
       "KNN Classifier                               0.001139           0.160302   \n",
       "Decision Tree Classifier                     0.001663           1.252086   \n",
       "Random Forest Classifier                     0.001767           2.180807   \n",
       "\n",
       "                          Correctly Predicted True (%)  \n",
       "Naive Bayes                                      5.285  \n",
       "Logistic Regression                              8.050  \n",
       "KNN Classifier                                   4.750  \n",
       "Decision Tree Classifier                         7.010  \n",
       "Random Forest Classifier                         6.345  "
      ]
     },
     "execution_count": 477,
     "metadata": {},
     "output_type": "execute_result"
    }
   ],
   "source": [
    "# Collect results into table and print\n",
    "models = ['Naive Bayes','Logistic Regression', 'KNN Classifier',\n",
    "          'Decision Tree Classifier','Random Forest Classifier']\n",
    "pca_results = pd.DataFrame(index=models)\n",
    "pca_results['Test Set Accuracy (%)'] = test_acc\n",
    "pca_results['Avg 5 Fold Cross Validation Accuracy (%)'] = cv_acc\n",
    "pca_results['SD Cross Validation Results'] = cv_sd\n",
    "pca_results['Runtime (seconds)'] = runtime\n",
    "pca_results['Correctly Predicted True (%)'] = true\n",
    "pca_results"
   ]
  },
  {
   "cell_type": "code",
   "execution_count": 478,
   "metadata": {},
   "outputs": [
    {
     "data": {
      "text/html": [
       "<div>\n",
       "<style scoped>\n",
       "    .dataframe tbody tr th:only-of-type {\n",
       "        vertical-align: middle;\n",
       "    }\n",
       "\n",
       "    .dataframe tbody tr th {\n",
       "        vertical-align: top;\n",
       "    }\n",
       "\n",
       "    .dataframe thead th {\n",
       "        text-align: right;\n",
       "    }\n",
       "</style>\n",
       "<table border=\"1\" class=\"dataframe\">\n",
       "  <thead>\n",
       "    <tr style=\"text-align: right;\">\n",
       "      <th></th>\n",
       "      <th>Test Set Accuracy (%)</th>\n",
       "      <th>Avg 5 Fold Cross Validation Accuracy (%)</th>\n",
       "      <th>SD Cross Validation Results</th>\n",
       "      <th>Runtime</th>\n",
       "      <th>Correctly Predicted True (%)</th>\n",
       "    </tr>\n",
       "  </thead>\n",
       "  <tbody>\n",
       "    <tr>\n",
       "      <th>Naive Bayes</th>\n",
       "      <td>83.525</td>\n",
       "      <td>83.34</td>\n",
       "      <td>0.000101</td>\n",
       "      <td>0.046257</td>\n",
       "      <td>0.015</td>\n",
       "    </tr>\n",
       "    <tr>\n",
       "      <th>Logistic Regression</th>\n",
       "      <td>86.804</td>\n",
       "      <td>86.88</td>\n",
       "      <td>0.001526</td>\n",
       "      <td>0.752356</td>\n",
       "      <td>8.170</td>\n",
       "    </tr>\n",
       "    <tr>\n",
       "      <th>KNN Classifier</th>\n",
       "      <td>84.283</td>\n",
       "      <td>84.43</td>\n",
       "      <td>0.001137</td>\n",
       "      <td>0.265596</td>\n",
       "      <td>4.870</td>\n",
       "    </tr>\n",
       "    <tr>\n",
       "      <th>Decision Tree Classifier</th>\n",
       "      <td>86.117</td>\n",
       "      <td>86.11</td>\n",
       "      <td>0.001893</td>\n",
       "      <td>0.284819</td>\n",
       "      <td>6.690</td>\n",
       "    </tr>\n",
       "    <tr>\n",
       "      <th>Random Forest Classifier</th>\n",
       "      <td>84.192</td>\n",
       "      <td>84.30</td>\n",
       "      <td>0.001738</td>\n",
       "      <td>0.703784</td>\n",
       "      <td>6.455</td>\n",
       "    </tr>\n",
       "  </tbody>\n",
       "</table>\n",
       "</div>"
      ],
      "text/plain": [
       "                          Test Set Accuracy (%)  \\\n",
       "Naive Bayes                              83.525   \n",
       "Logistic Regression                      86.804   \n",
       "KNN Classifier                           84.283   \n",
       "Decision Tree Classifier                 86.117   \n",
       "Random Forest Classifier                 84.192   \n",
       "\n",
       "                          Avg 5 Fold Cross Validation Accuracy (%)  \\\n",
       "Naive Bayes                                                  83.34   \n",
       "Logistic Regression                                          86.88   \n",
       "KNN Classifier                                               84.43   \n",
       "Decision Tree Classifier                                     86.11   \n",
       "Random Forest Classifier                                     84.30   \n",
       "\n",
       "                          SD Cross Validation Results   Runtime  \\\n",
       "Naive Bayes                                  0.000101  0.046257   \n",
       "Logistic Regression                          0.001526  0.752356   \n",
       "KNN Classifier                               0.001137  0.265596   \n",
       "Decision Tree Classifier                     0.001893  0.284819   \n",
       "Random Forest Classifier                     0.001738  0.703784   \n",
       "\n",
       "                          Correctly Predicted True (%)  \n",
       "Naive Bayes                                      0.015  \n",
       "Logistic Regression                              8.170  \n",
       "KNN Classifier                                   4.870  \n",
       "Decision Tree Classifier                         6.690  \n",
       "Random Forest Classifier                         6.455  "
      ]
     },
     "execution_count": 478,
     "metadata": {},
     "output_type": "execute_result"
    }
   ],
   "source": [
    "results"
   ]
  },
  {
   "cell_type": "code",
   "execution_count": null,
   "metadata": {},
   "outputs": [],
   "source": [
    "# The results of these models are still pretty awful due to a large number of \n",
    "# type 2 errors (false negatives) most likely caused by an imbalance in the\n",
    "# loyalty members / non members"
   ]
  },
  {
   "cell_type": "code",
   "execution_count": null,
   "metadata": {},
   "outputs": [],
   "source": []
  }
 ],
 "metadata": {
  "kernelspec": {
   "display_name": "Python 3",
   "language": "python",
   "name": "python3"
  },
  "language_info": {
   "codemirror_mode": {
    "name": "ipython",
    "version": 3
   },
   "file_extension": ".py",
   "mimetype": "text/x-python",
   "name": "python",
   "nbconvert_exporter": "python",
   "pygments_lexer": "ipython3",
   "version": "3.7.2"
  }
 },
 "nbformat": 4,
 "nbformat_minor": 2
}
