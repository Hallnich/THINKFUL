{
 "cells": [
  {
   "cell_type": "markdown",
   "metadata": {},
   "source": [
    "# Problem:\n",
    "Having the best recruitment slogan possible is vital for recruiting the maximum number of people possible to the dark side.  The current slogan \"Give in to your anger\" is not working as effectively as they believe it could be.\n",
    "\n",
    "# Potential Solution:\n",
    "The empire believes that the new slogan \"Together we can rule the galaxy\" will be more effective than their old one in converting people to the dark side.\n",
    "\n",
    "# Methods:\n",
    "All groups of prisoners will be split randomly into 2 seperate groups and one of the 2 slogans will be delivered to each group by Darth Vader, and the percent of each group that converts to each side will be determined.  This will be done for multiple groups of prisoners on many different planets, and the species of prisoner will also be recorded in order to determine if one slogan is more effective than the other for only certain species."
   ]
  },
  {
   "cell_type": "code",
   "execution_count": null,
   "metadata": {},
   "outputs": [],
   "source": []
  }
 ],
 "metadata": {
  "kernelspec": {
   "display_name": "Python 3",
   "language": "python",
   "name": "python3"
  },
  "language_info": {
   "codemirror_mode": {
    "name": "ipython",
    "version": 3
   },
   "file_extension": ".py",
   "mimetype": "text/x-python",
   "name": "python",
   "nbconvert_exporter": "python",
   "pygments_lexer": "ipython3",
   "version": "3.7.2"
  }
 },
 "nbformat": 4,
 "nbformat_minor": 2
}
