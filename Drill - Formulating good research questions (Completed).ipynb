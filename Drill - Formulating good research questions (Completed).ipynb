{
 "cells": [
  {
   "cell_type": "markdown",
   "metadata": {},
   "source": [
    "# 1-What is the 1994 rate of juvenile delinquency in the US?\n",
    "    This is a good research question because it is simple and can be solved with a single numerical answer\n",
    "# 2-What can we do to reduce juvenile delinquency in the US?\n",
    "    This is a bad research question because it is very open ended and could potentially have infinite answers.  An better alternative research question could be something along the lines of \"How effective was the DARE program in reducing juvenile delinquency?\"\n",
    "# 3-Does education play a role in reducing juvenile delinquents return to crime?\n",
    "    I would say that this is not a very good question because it is a little vague.  I would change it to a question more along the lines of \"Does dropping out of highschool cause an increase in the recidivism rates of previous juvenile offenders?\"\n",
    "# 4-How many customers does AT&T currently serve in Washington, DC?\n",
    "    This is a good question because it has a definite, easily answered numerical answer\n",
    "# 5-What factors lead consumers to choose AT&T over other service providers?\n",
    "    This is a bad research question because it is very open ended since there could be endless factors that cause this.   A better question would be testing to see if a certain factor lead consumers to choose AT&T over other service providers.  An example of this would be something along the lines of \"Which of the following factors do AT&T customers rank as the main reason they choose AT&T over other service providers\" and could be answered with a simple questionnaire where customers are asked to rank factors such as cost or quality and speed of service.\n",
    "# 6-How can AT&T attract more customers?\n",
    "    This is a bad research question because it is very open ended and is not asking a definite question and instead simply sounds like it is asking for suggestions.  A better research question would be something along the lines of  \"Did AT&T's old phone trade in program cause an increase in the number of customers who purchased new phones this year?\"\n",
    "# 7-Why did the Challenger Shuttle explode?\n",
    "    This is a good research question because it has one specific goal in mind and most likely one or only a few viable solutions.\n",
    "# 8-Which genes are associated with increased risk of breast cancer?\n",
    "    While this is an ok research question since it can be answered fairly easily.  However, it would be a better research question if there was a more definite goal in mind such as \"How much does the BRCA1 genetic mutation increase the risk of developing breast cancer?\"\n",
    "# 9-Is it better to read to children at night or in the morning?\n",
    "    This is a bad research question because there are endless factors that could change the answer to this question based on factors such as differences between individuals, situations, and desired outcomes of reading.  A better research question would be something along the lines of \"Does reading children books written in a foreign language during the morning help them to understand a new language faster than reading them the same books at night?\"\n",
    "# 10-How does google's search algorithm work?\n",
    "    This is a bad research question because it is very open ended and the actual answer would most likely take years to completely understand completely.  A better type of research question would be something simple that could be realistically answered such as \"How does google's search algorithm deal with case sensitivity in searches?\"\n"
   ]
  }
 ],
 "metadata": {
  "kernelspec": {
   "display_name": "Python 3",
   "language": "python",
   "name": "python3"
  },
  "language_info": {
   "codemirror_mode": {
    "name": "ipython",
    "version": 3
   },
   "file_extension": ".py",
   "mimetype": "text/x-python",
   "name": "python",
   "nbconvert_exporter": "python",
   "pygments_lexer": "ipython3",
   "version": "3.7.2"
  }
 },
 "nbformat": 4,
 "nbformat_minor": 2
}
